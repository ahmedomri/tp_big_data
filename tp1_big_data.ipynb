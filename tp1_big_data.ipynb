{
 "cells": [
  {
   "cell_type": "code",
   "execution_count": 0,
   "metadata": {
    "application/vnd.databricks.v1+cell": {
     "inputWidgets": {},
     "nuid": "d56d2414-2bcb-4674-a6e7-71e51b5f641b",
     "showTitle": false,
     "title": ""
    }
   },
   "outputs": [
    {
     "data": {
      "text/html": [
       "<style scoped>\n",
       "  .ansiout {\n",
       "    display: block;\n",
       "    unicode-bidi: embed;\n",
       "    white-space: pre-wrap;\n",
       "    word-wrap: break-word;\n",
       "    word-break: break-all;\n",
       "    font-family: \"Source Code Pro\", \"Menlo\", monospace;;\n",
       "    font-size: 13px;\n",
       "    color: #555;\n",
       "    margin-left: 4px;\n",
       "    line-height: 19px;\n",
       "  }\n",
       "</style>\n",
       "<div class=\"ansiout\"></div>"
      ]
     },
     "metadata": {
      "application/vnd.databricks.v1+output": {
       "addedWidgets": {},
       "arguments": {},
       "data": "<div class=\"ansiout\"></div>",
       "datasetInfos": [],
       "metadata": {},
       "removedWidgets": [],
       "type": "html"
      }
     },
     "output_type": "display_data"
    }
   ],
   "source": [
    "# import all packages and set plots to be embedded inline\n",
    "import numpy as np\n",
    "import pandas as pd\n",
    "import matplotlib.pyplot as plt\n",
    "import seaborn as sb\n",
    "import requests\n",
    "import os\n",
    "import zipfile\n",
    "import glob\n",
    "\n",
    "%matplotlib inline"
   ]
  },
  {
   "cell_type": "markdown",
   "metadata": {
    "application/vnd.databricks.v1+cell": {
     "inputWidgets": {},
     "nuid": "0fc346ae-4ca8-447b-9464-568e18a4071b",
     "showTitle": false,
     "title": ""
    }
   },
   "source": [
    "<a id='gathering'></a>\n",
    "### récupérer les données en utilisant spark sql"
   ]
  },
  {
   "cell_type": "code",
   "execution_count": 0,
   "metadata": {
    "application/vnd.databricks.v1+cell": {
     "inputWidgets": {},
     "nuid": "5fbc7011-e81d-43b4-866b-232f7c7e2d61",
     "showTitle": false,
     "title": ""
    }
   },
   "outputs": [
    {
     "data": {
      "text/html": [
       "<style scoped>\n",
       "  .ansiout {\n",
       "    display: block;\n",
       "    unicode-bidi: embed;\n",
       "    white-space: pre-wrap;\n",
       "    word-wrap: break-word;\n",
       "    word-break: break-all;\n",
       "    font-family: \"Source Code Pro\", \"Menlo\", monospace;;\n",
       "    font-size: 13px;\n",
       "    color: #555;\n",
       "    margin-left: 4px;\n",
       "    line-height: 19px;\n",
       "  }\n",
       "</style>\n",
       "<div class=\"ansiout\"></div>"
      ]
     },
     "metadata": {
      "application/vnd.databricks.v1+output": {
       "addedWidgets": {},
       "arguments": {},
       "data": "<div class=\"ansiout\"></div>",
       "datasetInfos": [
        {
         "name": "sparkdf",
         "schema": {
          "fields": [
           {
            "metadata": {},
            "name": "duration_sec",
            "nullable": true,
            "type": "string"
           },
           {
            "metadata": {},
            "name": "start_time",
            "nullable": true,
            "type": "string"
           },
           {
            "metadata": {},
            "name": "end_time",
            "nullable": true,
            "type": "string"
           },
           {
            "metadata": {},
            "name": "start_station_id",
            "nullable": true,
            "type": "string"
           },
           {
            "metadata": {},
            "name": "start_station_name",
            "nullable": true,
            "type": "string"
           },
           {
            "metadata": {},
            "name": "start_station_latitude",
            "nullable": true,
            "type": "string"
           },
           {
            "metadata": {},
            "name": "start_station_longitude",
            "nullable": true,
            "type": "string"
           },
           {
            "metadata": {},
            "name": "end_station_id",
            "nullable": true,
            "type": "string"
           },
           {
            "metadata": {},
            "name": "end_station_name",
            "nullable": true,
            "type": "string"
           },
           {
            "metadata": {},
            "name": "end_station_latitude",
            "nullable": true,
            "type": "string"
           },
           {
            "metadata": {},
            "name": "end_station_longitude",
            "nullable": true,
            "type": "string"
           },
           {
            "metadata": {},
            "name": "bike_id",
            "nullable": true,
            "type": "string"
           },
           {
            "metadata": {},
            "name": "user_type",
            "nullable": true,
            "type": "string"
           },
           {
            "metadata": {},
            "name": "rental_access_method",
            "nullable": true,
            "type": "string"
           }
          ],
          "type": "struct"
         },
         "tableIdentifier": null,
         "typeStr": "pyspark.sql.dataframe.DataFrame"
        }
       ],
       "metadata": {},
       "removedWidgets": [],
       "type": "html"
      }
     },
     "output_type": "display_data"
    }
   ],
   "source": [
    "sparkdf = spark.sql(\"select *  from 2019_12_baywheels\")\n",
    "df_baywheels = sparkdf.toPandas()"
   ]
  },
  {
   "cell_type": "markdown",
   "metadata": {
    "application/vnd.databricks.v1+cell": {
     "inputWidgets": {},
     "nuid": "a7b527ff-9f0c-4e85-8ae8-54d9bf278908",
     "showTitle": false,
     "title": ""
    }
   },
   "source": [
    "<a id='assessing'></a>\n",
    "### visualiser les informations sur les données"
   ]
  },
  {
   "cell_type": "code",
   "execution_count": 0,
   "metadata": {
    "application/vnd.databricks.v1+cell": {
     "inputWidgets": {},
     "nuid": "b4d2073e-d023-4996-9d9d-7e9ad970f147",
     "showTitle": false,
     "title": ""
    }
   },
   "outputs": [
    {
     "data": {
      "text/html": [
       "<style scoped>\n",
       "  .ansiout {\n",
       "    display: block;\n",
       "    unicode-bidi: embed;\n",
       "    white-space: pre-wrap;\n",
       "    word-wrap: break-word;\n",
       "    word-break: break-all;\n",
       "    font-family: \"Source Code Pro\", \"Menlo\", monospace;;\n",
       "    font-size: 13px;\n",
       "    color: #555;\n",
       "    margin-left: 4px;\n",
       "    line-height: 19px;\n",
       "  }\n",
       "</style>\n",
       "<div class=\"ansiout\">&lt;class &#39;pandas.core.frame.DataFrame&#39;&gt;\n",
       "RangeIndex: 150102 entries, 0 to 150101\n",
       "Data columns (total 14 columns):\n",
       " #   Column                   Non-Null Count   Dtype \n",
       "---  ------                   --------------   ----- \n",
       " 0   duration_sec             150102 non-null  object\n",
       " 1   start_time               150102 non-null  object\n",
       " 2   end_time                 150102 non-null  object\n",
       " 3   start_station_id         129083 non-null  object\n",
       " 4   start_station_name       129087 non-null  object\n",
       " 5   start_station_latitude   150102 non-null  object\n",
       " 6   start_station_longitude  150102 non-null  object\n",
       " 7   end_station_id           128755 non-null  object\n",
       " 8   end_station_name         128757 non-null  object\n",
       " 9   end_station_latitude     150102 non-null  object\n",
       " 10  end_station_longitude    150102 non-null  object\n",
       " 11  bike_id                  150102 non-null  object\n",
       " 12  user_type                150102 non-null  object\n",
       " 13  rental_access_method     27681 non-null   object\n",
       "dtypes: object(14)\n",
       "memory usage: 16.0+ MB\n",
       "</div>"
      ]
     },
     "metadata": {
      "application/vnd.databricks.v1+output": {
       "addedWidgets": {},
       "arguments": {},
       "data": "<div class=\"ansiout\">&lt;class &#39;pandas.core.frame.DataFrame&#39;&gt;\nRangeIndex: 150102 entries, 0 to 150101\nData columns (total 14 columns):\n #   Column                   Non-Null Count   Dtype \n---  ------                   --------------   ----- \n 0   duration_sec             150102 non-null  object\n 1   start_time               150102 non-null  object\n 2   end_time                 150102 non-null  object\n 3   start_station_id         129083 non-null  object\n 4   start_station_name       129087 non-null  object\n 5   start_station_latitude   150102 non-null  object\n 6   start_station_longitude  150102 non-null  object\n 7   end_station_id           128755 non-null  object\n 8   end_station_name         128757 non-null  object\n 9   end_station_latitude     150102 non-null  object\n 10  end_station_longitude    150102 non-null  object\n 11  bike_id                  150102 non-null  object\n 12  user_type                150102 non-null  object\n 13  rental_access_method     27681 non-null   object\ndtypes: object(14)\nmemory usage: 16.0+ MB\n</div>",
       "datasetInfos": [],
       "metadata": {},
       "removedWidgets": [],
       "type": "html"
      }
     },
     "output_type": "display_data"
    }
   ],
   "source": [
    "# Visualize info from dataset\n",
    "df_baywheels.info()"
   ]
  },
  {
   "cell_type": "code",
   "execution_count": 0,
   "metadata": {
    "application/vnd.databricks.v1+cell": {
     "inputWidgets": {},
     "nuid": "58b28760-dc1e-4c55-93dd-997ec25fd6a9",
     "showTitle": false,
     "title": ""
    }
   },
   "outputs": [
    {
     "data": {
      "text/html": [
       "<div>\n",
       "<style scoped>\n",
       "    .dataframe tbody tr th:only-of-type {\n",
       "        vertical-align: middle;\n",
       "    }\n",
       "\n",
       "    .dataframe tbody tr th {\n",
       "        vertical-align: top;\n",
       "    }\n",
       "\n",
       "    .dataframe thead th {\n",
       "        text-align: right;\n",
       "    }\n",
       "</style>\n",
       "<table border=\"1\" class=\"dataframe\">\n",
       "  <thead>\n",
       "    <tr style=\"text-align: right;\">\n",
       "      <th></th>\n",
       "      <th>duration_sec</th>\n",
       "      <th>start_time</th>\n",
       "      <th>end_time</th>\n",
       "      <th>start_station_id</th>\n",
       "      <th>start_station_name</th>\n",
       "      <th>start_station_latitude</th>\n",
       "      <th>start_station_longitude</th>\n",
       "      <th>end_station_id</th>\n",
       "      <th>end_station_name</th>\n",
       "      <th>end_station_latitude</th>\n",
       "      <th>end_station_longitude</th>\n",
       "      <th>bike_id</th>\n",
       "      <th>user_type</th>\n",
       "      <th>rental_access_method</th>\n",
       "    </tr>\n",
       "  </thead>\n",
       "  <tbody>\n",
       "    <tr>\n",
       "      <th>0</th>\n",
       "      <td>1599</td>\n",
       "      <td>2019-12-03 09:27:44.8660</td>\n",
       "      <td>2019-12-03 09:54:24.4820</td>\n",
       "      <td>70</td>\n",
       "      <td>Central Ave at Fell St</td>\n",
       "      <td>37.7733108789</td>\n",
       "      <td>-122.4442926049</td>\n",
       "      <td>81</td>\n",
       "      <td>Berry St at 4th St</td>\n",
       "      <td>37.77588</td>\n",
       "      <td>-122.39317</td>\n",
       "      <td>118</td>\n",
       "      <td>Customer</td>\n",
       "      <td>None</td>\n",
       "    </tr>\n",
       "    <tr>\n",
       "      <th>1</th>\n",
       "      <td>739</td>\n",
       "      <td>2019-12-03 09:42:00.6700</td>\n",
       "      <td>2019-12-03 09:54:20.3080</td>\n",
       "      <td>22</td>\n",
       "      <td>Howard St at Beale St</td>\n",
       "      <td>37.789756</td>\n",
       "      <td>-122.394643</td>\n",
       "      <td>93</td>\n",
       "      <td>4th St at Mission Bay Blvd S</td>\n",
       "      <td>37.7704074</td>\n",
       "      <td>-122.3911984</td>\n",
       "      <td>10719</td>\n",
       "      <td>Subscriber</td>\n",
       "      <td>None</td>\n",
       "    </tr>\n",
       "    <tr>\n",
       "      <th>2</th>\n",
       "      <td>1540</td>\n",
       "      <td>2019-12-03 09:28:39.0340</td>\n",
       "      <td>2019-12-03 09:54:19.3000</td>\n",
       "      <td>134</td>\n",
       "      <td>Valencia St at 24th St</td>\n",
       "      <td>37.7524278</td>\n",
       "      <td>-122.4206278</td>\n",
       "      <td>21</td>\n",
       "      <td>Montgomery St BART Station (Market St at 2nd St)</td>\n",
       "      <td>37.7896254</td>\n",
       "      <td>-122.400811</td>\n",
       "      <td>113</td>\n",
       "      <td>Subscriber</td>\n",
       "      <td>None</td>\n",
       "    </tr>\n",
       "    <tr>\n",
       "      <th>3</th>\n",
       "      <td>737</td>\n",
       "      <td>2019-12-03 09:41:59.5520</td>\n",
       "      <td>2019-12-03 09:54:16.5980</td>\n",
       "      <td>22</td>\n",
       "      <td>Howard St at Beale St</td>\n",
       "      <td>37.789756</td>\n",
       "      <td>-122.394643</td>\n",
       "      <td>93</td>\n",
       "      <td>4th St at Mission Bay Blvd S</td>\n",
       "      <td>37.7704074</td>\n",
       "      <td>-122.3911984</td>\n",
       "      <td>9916</td>\n",
       "      <td>Customer</td>\n",
       "      <td>None</td>\n",
       "    </tr>\n",
       "    <tr>\n",
       "      <th>4</th>\n",
       "      <td>1057</td>\n",
       "      <td>2019-12-03 09:36:39.1730</td>\n",
       "      <td>2019-12-03 09:54:16.2240</td>\n",
       "      <td>16</td>\n",
       "      <td>Steuart St at Market St</td>\n",
       "      <td>37.79413</td>\n",
       "      <td>-122.39443</td>\n",
       "      <td>93</td>\n",
       "      <td>4th St at Mission Bay Blvd S</td>\n",
       "      <td>37.7704074</td>\n",
       "      <td>-122.3911984</td>\n",
       "      <td>2461</td>\n",
       "      <td>Subscriber</td>\n",
       "      <td>None</td>\n",
       "    </tr>\n",
       "  </tbody>\n",
       "</table>\n",
       "</div>"
      ]
     },
     "metadata": {
      "application/vnd.databricks.v1+output": {
       "addedWidgets": {},
       "arguments": {},
       "data": "<div>\n<style scoped>\n    .dataframe tbody tr th:only-of-type {\n        vertical-align: middle;\n    }\n\n    .dataframe tbody tr th {\n        vertical-align: top;\n    }\n\n    .dataframe thead th {\n        text-align: right;\n    }\n</style>\n<table border=\"1\" class=\"dataframe\">\n  <thead>\n    <tr style=\"text-align: right;\">\n      <th></th>\n      <th>duration_sec</th>\n      <th>start_time</th>\n      <th>end_time</th>\n      <th>start_station_id</th>\n      <th>start_station_name</th>\n      <th>start_station_latitude</th>\n      <th>start_station_longitude</th>\n      <th>end_station_id</th>\n      <th>end_station_name</th>\n      <th>end_station_latitude</th>\n      <th>end_station_longitude</th>\n      <th>bike_id</th>\n      <th>user_type</th>\n      <th>rental_access_method</th>\n    </tr>\n  </thead>\n  <tbody>\n    <tr>\n      <th>0</th>\n      <td>1599</td>\n      <td>2019-12-03 09:27:44.8660</td>\n      <td>2019-12-03 09:54:24.4820</td>\n      <td>70</td>\n      <td>Central Ave at Fell St</td>\n      <td>37.7733108789</td>\n      <td>-122.4442926049</td>\n      <td>81</td>\n      <td>Berry St at 4th St</td>\n      <td>37.77588</td>\n      <td>-122.39317</td>\n      <td>118</td>\n      <td>Customer</td>\n      <td>None</td>\n    </tr>\n    <tr>\n      <th>1</th>\n      <td>739</td>\n      <td>2019-12-03 09:42:00.6700</td>\n      <td>2019-12-03 09:54:20.3080</td>\n      <td>22</td>\n      <td>Howard St at Beale St</td>\n      <td>37.789756</td>\n      <td>-122.394643</td>\n      <td>93</td>\n      <td>4th St at Mission Bay Blvd S</td>\n      <td>37.7704074</td>\n      <td>-122.3911984</td>\n      <td>10719</td>\n      <td>Subscriber</td>\n      <td>None</td>\n    </tr>\n    <tr>\n      <th>2</th>\n      <td>1540</td>\n      <td>2019-12-03 09:28:39.0340</td>\n      <td>2019-12-03 09:54:19.3000</td>\n      <td>134</td>\n      <td>Valencia St at 24th St</td>\n      <td>37.7524278</td>\n      <td>-122.4206278</td>\n      <td>21</td>\n      <td>Montgomery St BART Station (Market St at 2nd St)</td>\n      <td>37.7896254</td>\n      <td>-122.400811</td>\n      <td>113</td>\n      <td>Subscriber</td>\n      <td>None</td>\n    </tr>\n    <tr>\n      <th>3</th>\n      <td>737</td>\n      <td>2019-12-03 09:41:59.5520</td>\n      <td>2019-12-03 09:54:16.5980</td>\n      <td>22</td>\n      <td>Howard St at Beale St</td>\n      <td>37.789756</td>\n      <td>-122.394643</td>\n      <td>93</td>\n      <td>4th St at Mission Bay Blvd S</td>\n      <td>37.7704074</td>\n      <td>-122.3911984</td>\n      <td>9916</td>\n      <td>Customer</td>\n      <td>None</td>\n    </tr>\n    <tr>\n      <th>4</th>\n      <td>1057</td>\n      <td>2019-12-03 09:36:39.1730</td>\n      <td>2019-12-03 09:54:16.2240</td>\n      <td>16</td>\n      <td>Steuart St at Market St</td>\n      <td>37.79413</td>\n      <td>-122.39443</td>\n      <td>93</td>\n      <td>4th St at Mission Bay Blvd S</td>\n      <td>37.7704074</td>\n      <td>-122.3911984</td>\n      <td>2461</td>\n      <td>Subscriber</td>\n      <td>None</td>\n    </tr>\n  </tbody>\n</table>\n</div>",
       "datasetInfos": [],
       "metadata": {},
       "removedWidgets": [],
       "textData": "<div class=\"ansiout\">Out[48]: </div>",
       "type": "htmlSandbox"
      }
     },
     "output_type": "display_data"
    }
   ],
   "source": [
    "# Visualize the first five rows\n",
    "df_baywheels.head()"
   ]
  },
  {
   "cell_type": "code",
   "execution_count": 0,
   "metadata": {
    "application/vnd.databricks.v1+cell": {
     "inputWidgets": {},
     "nuid": "9bf3ccf9-a089-481e-a3b1-ce061f323ea0",
     "showTitle": false,
     "title": ""
    }
   },
   "outputs": [
    {
     "data": {
      "text/html": [
       "<div>\n",
       "<style scoped>\n",
       "    .dataframe tbody tr th:only-of-type {\n",
       "        vertical-align: middle;\n",
       "    }\n",
       "\n",
       "    .dataframe tbody tr th {\n",
       "        vertical-align: top;\n",
       "    }\n",
       "\n",
       "    .dataframe thead th {\n",
       "        text-align: right;\n",
       "    }\n",
       "</style>\n",
       "<table border=\"1\" class=\"dataframe\">\n",
       "  <thead>\n",
       "    <tr style=\"text-align: right;\">\n",
       "      <th></th>\n",
       "      <th>count</th>\n",
       "      <th>unique</th>\n",
       "      <th>top</th>\n",
       "      <th>freq</th>\n",
       "    </tr>\n",
       "  </thead>\n",
       "  <tbody>\n",
       "    <tr>\n",
       "      <th>duration_sec</th>\n",
       "      <td>150102</td>\n",
       "      <td>4606</td>\n",
       "      <td>380</td>\n",
       "      <td>226</td>\n",
       "    </tr>\n",
       "    <tr>\n",
       "      <th>start_time</th>\n",
       "      <td>150102</td>\n",
       "      <td>149784</td>\n",
       "      <td>2019-12-27 12:56:34</td>\n",
       "      <td>3</td>\n",
       "    </tr>\n",
       "    <tr>\n",
       "      <th>end_time</th>\n",
       "      <td>150102</td>\n",
       "      <td>149798</td>\n",
       "      <td>2019-12-19 16:19:21</td>\n",
       "      <td>3</td>\n",
       "    </tr>\n",
       "    <tr>\n",
       "      <th>start_station_id</th>\n",
       "      <td>129083</td>\n",
       "      <td>421</td>\n",
       "      <td>30</td>\n",
       "      <td>3134</td>\n",
       "    </tr>\n",
       "    <tr>\n",
       "      <th>start_station_name</th>\n",
       "      <td>129087</td>\n",
       "      <td>422</td>\n",
       "      <td>San Francisco Caltrain (Townsend St at 4th St)</td>\n",
       "      <td>3134</td>\n",
       "    </tr>\n",
       "    <tr>\n",
       "      <th>start_station_latitude</th>\n",
       "      <td>150102</td>\n",
       "      <td>20749</td>\n",
       "      <td>37.776598</td>\n",
       "      <td>3134</td>\n",
       "    </tr>\n",
       "    <tr>\n",
       "      <th>start_station_longitude</th>\n",
       "      <td>150102</td>\n",
       "      <td>20985</td>\n",
       "      <td>-122.395282</td>\n",
       "      <td>3134</td>\n",
       "    </tr>\n",
       "    <tr>\n",
       "      <th>end_station_id</th>\n",
       "      <td>128755</td>\n",
       "      <td>423</td>\n",
       "      <td>30</td>\n",
       "      <td>4846</td>\n",
       "    </tr>\n",
       "    <tr>\n",
       "      <th>end_station_name</th>\n",
       "      <td>128757</td>\n",
       "      <td>425</td>\n",
       "      <td>San Francisco Caltrain (Townsend St at 4th St)</td>\n",
       "      <td>4846</td>\n",
       "    </tr>\n",
       "    <tr>\n",
       "      <th>end_station_latitude</th>\n",
       "      <td>150102</td>\n",
       "      <td>21101</td>\n",
       "      <td>37.776598</td>\n",
       "      <td>4846</td>\n",
       "    </tr>\n",
       "    <tr>\n",
       "      <th>end_station_longitude</th>\n",
       "      <td>150102</td>\n",
       "      <td>21312</td>\n",
       "      <td>-122.395282</td>\n",
       "      <td>4846</td>\n",
       "    </tr>\n",
       "    <tr>\n",
       "      <th>bike_id</th>\n",
       "      <td>150102</td>\n",
       "      <td>5905</td>\n",
       "      <td>483611</td>\n",
       "      <td>107</td>\n",
       "    </tr>\n",
       "    <tr>\n",
       "      <th>user_type</th>\n",
       "      <td>150102</td>\n",
       "      <td>2</td>\n",
       "      <td>Subscriber</td>\n",
       "      <td>78233</td>\n",
       "    </tr>\n",
       "    <tr>\n",
       "      <th>rental_access_method</th>\n",
       "      <td>27681</td>\n",
       "      <td>2</td>\n",
       "      <td>app</td>\n",
       "      <td>23994</td>\n",
       "    </tr>\n",
       "  </tbody>\n",
       "</table>\n",
       "</div>"
      ]
     },
     "metadata": {
      "application/vnd.databricks.v1+output": {
       "addedWidgets": {},
       "arguments": {},
       "data": "<div>\n<style scoped>\n    .dataframe tbody tr th:only-of-type {\n        vertical-align: middle;\n    }\n\n    .dataframe tbody tr th {\n        vertical-align: top;\n    }\n\n    .dataframe thead th {\n        text-align: right;\n    }\n</style>\n<table border=\"1\" class=\"dataframe\">\n  <thead>\n    <tr style=\"text-align: right;\">\n      <th></th>\n      <th>count</th>\n      <th>unique</th>\n      <th>top</th>\n      <th>freq</th>\n    </tr>\n  </thead>\n  <tbody>\n    <tr>\n      <th>duration_sec</th>\n      <td>150102</td>\n      <td>4606</td>\n      <td>380</td>\n      <td>226</td>\n    </tr>\n    <tr>\n      <th>start_time</th>\n      <td>150102</td>\n      <td>149784</td>\n      <td>2019-12-27 12:56:34</td>\n      <td>3</td>\n    </tr>\n    <tr>\n      <th>end_time</th>\n      <td>150102</td>\n      <td>149798</td>\n      <td>2019-12-19 16:19:21</td>\n      <td>3</td>\n    </tr>\n    <tr>\n      <th>start_station_id</th>\n      <td>129083</td>\n      <td>421</td>\n      <td>30</td>\n      <td>3134</td>\n    </tr>\n    <tr>\n      <th>start_station_name</th>\n      <td>129087</td>\n      <td>422</td>\n      <td>San Francisco Caltrain (Townsend St at 4th St)</td>\n      <td>3134</td>\n    </tr>\n    <tr>\n      <th>start_station_latitude</th>\n      <td>150102</td>\n      <td>20749</td>\n      <td>37.776598</td>\n      <td>3134</td>\n    </tr>\n    <tr>\n      <th>start_station_longitude</th>\n      <td>150102</td>\n      <td>20985</td>\n      <td>-122.395282</td>\n      <td>3134</td>\n    </tr>\n    <tr>\n      <th>end_station_id</th>\n      <td>128755</td>\n      <td>423</td>\n      <td>30</td>\n      <td>4846</td>\n    </tr>\n    <tr>\n      <th>end_station_name</th>\n      <td>128757</td>\n      <td>425</td>\n      <td>San Francisco Caltrain (Townsend St at 4th St)</td>\n      <td>4846</td>\n    </tr>\n    <tr>\n      <th>end_station_latitude</th>\n      <td>150102</td>\n      <td>21101</td>\n      <td>37.776598</td>\n      <td>4846</td>\n    </tr>\n    <tr>\n      <th>end_station_longitude</th>\n      <td>150102</td>\n      <td>21312</td>\n      <td>-122.395282</td>\n      <td>4846</td>\n    </tr>\n    <tr>\n      <th>bike_id</th>\n      <td>150102</td>\n      <td>5905</td>\n      <td>483611</td>\n      <td>107</td>\n    </tr>\n    <tr>\n      <th>user_type</th>\n      <td>150102</td>\n      <td>2</td>\n      <td>Subscriber</td>\n      <td>78233</td>\n    </tr>\n    <tr>\n      <th>rental_access_method</th>\n      <td>27681</td>\n      <td>2</td>\n      <td>app</td>\n      <td>23994</td>\n    </tr>\n  </tbody>\n</table>\n</div>",
       "datasetInfos": [],
       "metadata": {},
       "removedWidgets": [],
       "textData": "<div class=\"ansiout\">Out[49]: </div>",
       "type": "htmlSandbox"
      }
     },
     "output_type": "display_data"
    }
   ],
   "source": [
    "# Verify statistics values\n",
    "df_baywheels.describe().T"
   ]
  },
  {
   "cell_type": "code",
   "execution_count": 0,
   "metadata": {
    "application/vnd.databricks.v1+cell": {
     "inputWidgets": {},
     "nuid": "d7625bad-1946-412f-96dd-7c29bd812b9b",
     "showTitle": false,
     "title": ""
    }
   },
   "outputs": [
    {
     "data": {
      "text/html": [
       "<style scoped>\n",
       "  .ansiout {\n",
       "    display: block;\n",
       "    unicode-bidi: embed;\n",
       "    white-space: pre-wrap;\n",
       "    word-wrap: break-word;\n",
       "    word-break: break-all;\n",
       "    font-family: \"Source Code Pro\", \"Menlo\", monospace;;\n",
       "    font-size: 13px;\n",
       "    color: #555;\n",
       "    margin-left: 4px;\n",
       "    line-height: 19px;\n",
       "  }\n",
       "</style>\n",
       "<div class=\"ansiout\">Out[50]: duration_sec                    0\n",
       "start_time                      0\n",
       "end_time                        0\n",
       "start_station_id            21019\n",
       "start_station_name          21015\n",
       "start_station_latitude          0\n",
       "start_station_longitude         0\n",
       "end_station_id              21347\n",
       "end_station_name            21345\n",
       "end_station_latitude            0\n",
       "end_station_longitude           0\n",
       "bike_id                         0\n",
       "user_type                       0\n",
       "rental_access_method       122421\n",
       "dtype: int64</div>"
      ]
     },
     "metadata": {
      "application/vnd.databricks.v1+output": {
       "addedWidgets": {},
       "arguments": {},
       "data": "<div class=\"ansiout\">Out[50]: duration_sec                    0\nstart_time                      0\nend_time                        0\nstart_station_id            21019\nstart_station_name          21015\nstart_station_latitude          0\nstart_station_longitude         0\nend_station_id              21347\nend_station_name            21345\nend_station_latitude            0\nend_station_longitude           0\nbike_id                         0\nuser_type                       0\nrental_access_method       122421\ndtype: int64</div>",
       "datasetInfos": [],
       "metadata": {},
       "removedWidgets": [],
       "type": "html"
      }
     },
     "output_type": "display_data"
    }
   ],
   "source": [
    "# Verify values nulls\n",
    "df_baywheels.isnull().sum()"
   ]
  },
  {
   "cell_type": "code",
   "execution_count": 0,
   "metadata": {
    "application/vnd.databricks.v1+cell": {
     "inputWidgets": {},
     "nuid": "57c69a84-9220-4fdf-80f4-a5d6983ea1f8",
     "showTitle": false,
     "title": ""
    }
   },
   "outputs": [
    {
     "data": {
      "text/html": [
       "<style scoped>\n",
       "  .ansiout {\n",
       "    display: block;\n",
       "    unicode-bidi: embed;\n",
       "    white-space: pre-wrap;\n",
       "    word-wrap: break-word;\n",
       "    word-break: break-all;\n",
       "    font-family: \"Source Code Pro\", \"Menlo\", monospace;;\n",
       "    font-size: 13px;\n",
       "    color: #555;\n",
       "    margin-left: 4px;\n",
       "    line-height: 19px;\n",
       "  }\n",
       "</style>\n",
       "<div class=\"ansiout\">Out[51]: duration_sec                0.000000\n",
       "start_time                  0.000000\n",
       "end_time                    0.000000\n",
       "start_station_id           14.003145\n",
       "start_station_name         14.000480\n",
       "start_station_latitude      0.000000\n",
       "start_station_longitude     0.000000\n",
       "end_station_id             14.221663\n",
       "end_station_name           14.220330\n",
       "end_station_latitude        0.000000\n",
       "end_station_longitude       0.000000\n",
       "bike_id                     0.000000\n",
       "user_type                   0.000000\n",
       "rental_access_method       81.558540\n",
       "dtype: float64</div>"
      ]
     },
     "metadata": {
      "application/vnd.databricks.v1+output": {
       "addedWidgets": {},
       "arguments": {},
       "data": "<div class=\"ansiout\">Out[51]: duration_sec                0.000000\nstart_time                  0.000000\nend_time                    0.000000\nstart_station_id           14.003145\nstart_station_name         14.000480\nstart_station_latitude      0.000000\nstart_station_longitude     0.000000\nend_station_id             14.221663\nend_station_name           14.220330\nend_station_latitude        0.000000\nend_station_longitude       0.000000\nbike_id                     0.000000\nuser_type                   0.000000\nrental_access_method       81.558540\ndtype: float64</div>",
       "datasetInfos": [],
       "metadata": {},
       "removedWidgets": [],
       "type": "html"
      }
     },
     "output_type": "display_data"
    }
   ],
   "source": [
    "# Verify values nulls in percent\n",
    "(df_baywheels.isnull().sum() / df_baywheels.shape[0]) * 100"
   ]
  },
  {
   "cell_type": "code",
   "execution_count": 0,
   "metadata": {
    "application/vnd.databricks.v1+cell": {
     "inputWidgets": {},
     "nuid": "61ef8670-9c79-4c9f-8128-456a1761d52c",
     "showTitle": false,
     "title": ""
    }
   },
   "outputs": [
    {
     "data": {
      "text/html": [
       "<style scoped>\n",
       "  .ansiout {\n",
       "    display: block;\n",
       "    unicode-bidi: embed;\n",
       "    white-space: pre-wrap;\n",
       "    word-wrap: break-word;\n",
       "    word-break: break-all;\n",
       "    font-family: \"Source Code Pro\", \"Menlo\", monospace;;\n",
       "    font-size: 13px;\n",
       "    color: #555;\n",
       "    margin-left: 4px;\n",
       "    line-height: 19px;\n",
       "  }\n",
       "</style>\n",
       "<div class=\"ansiout\">Out[52]: 30     3134\n",
       "58     2452\n",
       "81     2347\n",
       "22     1884\n",
       "16     1686\n",
       "       ... \n",
       "413       7\n",
       "228       6\n",
       "444       3\n",
       "224       2\n",
       "421       1\n",
       "Name: start_station_id, Length: 421, dtype: int64</div>"
      ]
     },
     "metadata": {
      "application/vnd.databricks.v1+output": {
       "addedWidgets": {},
       "arguments": {},
       "data": "<div class=\"ansiout\">Out[52]: 30     3134\n58     2452\n81     2347\n22     1884\n16     1686\n       ... \n413       7\n228       6\n444       3\n224       2\n421       1\nName: start_station_id, Length: 421, dtype: int64</div>",
       "datasetInfos": [],
       "metadata": {},
       "removedWidgets": [],
       "type": "html"
      }
     },
     "output_type": "display_data"
    }
   ],
   "source": [
    "# Verify values in column\n",
    "df_baywheels['start_station_id'].value_counts()"
   ]
  },
  {
   "cell_type": "code",
   "execution_count": 0,
   "metadata": {
    "application/vnd.databricks.v1+cell": {
     "inputWidgets": {},
     "nuid": "2412da88-6f10-433c-a75e-729f54139ca2",
     "showTitle": false,
     "title": ""
    }
   },
   "outputs": [
    {
     "data": {
      "text/html": [
       "<style scoped>\n",
       "  .ansiout {\n",
       "    display: block;\n",
       "    unicode-bidi: embed;\n",
       "    white-space: pre-wrap;\n",
       "    word-wrap: break-word;\n",
       "    word-break: break-all;\n",
       "    font-family: \"Source Code Pro\", \"Menlo\", monospace;;\n",
       "    font-size: 13px;\n",
       "    color: #555;\n",
       "    margin-left: 4px;\n",
       "    line-height: 19px;\n",
       "  }\n",
       "</style>\n",
       "<div class=\"ansiout\">Out[53]: San Francisco Caltrain (Townsend St at 4th St)    3134\n",
       "Market St at 10th St                              2452\n",
       "Berry St at 4th St                                2347\n",
       "Howard St at Beale St                             1884\n",
       "Steuart St at Market St                           1686\n",
       "                                                  ... \n",
       "Foothill Blvd at Harrington Ave                      6\n",
       "Jackson St at N 1st St                               4\n",
       "Mercado Way at Sierra Rd                             3\n",
       "21st Ave at International Blvd                       2\n",
       "23rd St at Taylor St                                 1\n",
       "Name: start_station_name, Length: 422, dtype: int64</div>"
      ]
     },
     "metadata": {
      "application/vnd.databricks.v1+output": {
       "addedWidgets": {},
       "arguments": {},
       "data": "<div class=\"ansiout\">Out[53]: San Francisco Caltrain (Townsend St at 4th St)    3134\nMarket St at 10th St                              2452\nBerry St at 4th St                                2347\nHoward St at Beale St                             1884\nSteuart St at Market St                           1686\n                                                  ... \nFoothill Blvd at Harrington Ave                      6\nJackson St at N 1st St                               4\nMercado Way at Sierra Rd                             3\n21st Ave at International Blvd                       2\n23rd St at Taylor St                                 1\nName: start_station_name, Length: 422, dtype: int64</div>",
       "datasetInfos": [],
       "metadata": {},
       "removedWidgets": [],
       "type": "html"
      }
     },
     "output_type": "display_data"
    }
   ],
   "source": [
    "# Verify values in column\n",
    "df_baywheels['start_station_name'].value_counts()"
   ]
  },
  {
   "cell_type": "code",
   "execution_count": 0,
   "metadata": {
    "application/vnd.databricks.v1+cell": {
     "inputWidgets": {},
     "nuid": "2753a551-91c0-440d-bd2e-db59f93cbb8d",
     "showTitle": false,
     "title": ""
    }
   },
   "outputs": [
    {
     "data": {
      "text/html": [
       "<style scoped>\n",
       "  .ansiout {\n",
       "    display: block;\n",
       "    unicode-bidi: embed;\n",
       "    white-space: pre-wrap;\n",
       "    word-wrap: break-word;\n",
       "    word-break: break-all;\n",
       "    font-family: \"Source Code Pro\", \"Menlo\", monospace;;\n",
       "    font-size: 13px;\n",
       "    color: #555;\n",
       "    margin-left: 4px;\n",
       "    line-height: 19px;\n",
       "  }\n",
       "</style>\n",
       "<div class=\"ansiout\">Out[54]: 30     4846\n",
       "21     2744\n",
       "81     2438\n",
       "58     2361\n",
       "3      2262\n",
       "       ... \n",
       "444       4\n",
       "298       4\n",
       "224       4\n",
       "421       1\n",
       "420       1\n",
       "Name: end_station_id, Length: 423, dtype: int64</div>"
      ]
     },
     "metadata": {
      "application/vnd.databricks.v1+output": {
       "addedWidgets": {},
       "arguments": {},
       "data": "<div class=\"ansiout\">Out[54]: 30     4846\n21     2744\n81     2438\n58     2361\n3      2262\n       ... \n444       4\n298       4\n224       4\n421       1\n420       1\nName: end_station_id, Length: 423, dtype: int64</div>",
       "datasetInfos": [],
       "metadata": {},
       "removedWidgets": [],
       "type": "html"
      }
     },
     "output_type": "display_data"
    }
   ],
   "source": [
    "# Verify values in column\n",
    "df_baywheels['end_station_id'].value_counts()"
   ]
  },
  {
   "cell_type": "code",
   "execution_count": 0,
   "metadata": {
    "application/vnd.databricks.v1+cell": {
     "inputWidgets": {},
     "nuid": "6ef912bd-a2db-409d-8d92-a35bf5287db7",
     "showTitle": false,
     "title": ""
    }
   },
   "outputs": [
    {
     "data": {
      "text/html": [
       "<style scoped>\n",
       "  .ansiout {\n",
       "    display: block;\n",
       "    unicode-bidi: embed;\n",
       "    white-space: pre-wrap;\n",
       "    word-wrap: break-word;\n",
       "    word-break: break-all;\n",
       "    font-family: \"Source Code Pro\", \"Menlo\", monospace;;\n",
       "    font-size: 13px;\n",
       "    color: #555;\n",
       "    margin-left: 4px;\n",
       "    line-height: 19px;\n",
       "  }\n",
       "</style>\n",
       "<div class=\"ansiout\">Out[55]: San Francisco Caltrain (Townsend St at 4th St)      4846\n",
       "Montgomery St BART Station (Market St at 2nd St)    2744\n",
       "Berry St at 4th St                                  2438\n",
       "Market St at 10th St                                2361\n",
       "Powell St BART Station (Market St at 4th St)        2262\n",
       "                                                    ... \n",
       "Oak St at 1st St                                       4\n",
       "SF Test Station                                        1\n",
       "Jackson St at N 1st St                                 1\n",
       "23rd St at Taylor St                                   1\n",
       "N 3rd St at E Taylor St                                1\n",
       "Name: end_station_name, Length: 425, dtype: int64</div>"
      ]
     },
     "metadata": {
      "application/vnd.databricks.v1+output": {
       "addedWidgets": {},
       "arguments": {},
       "data": "<div class=\"ansiout\">Out[55]: San Francisco Caltrain (Townsend St at 4th St)      4846\nMontgomery St BART Station (Market St at 2nd St)    2744\nBerry St at 4th St                                  2438\nMarket St at 10th St                                2361\nPowell St BART Station (Market St at 4th St)        2262\n                                                    ... \nOak St at 1st St                                       4\nSF Test Station                                        1\nJackson St at N 1st St                                 1\n23rd St at Taylor St                                   1\nN 3rd St at E Taylor St                                1\nName: end_station_name, Length: 425, dtype: int64</div>",
       "datasetInfos": [],
       "metadata": {},
       "removedWidgets": [],
       "type": "html"
      }
     },
     "output_type": "display_data"
    }
   ],
   "source": [
    "# Verify values in column\n",
    "df_baywheels['end_station_name'].value_counts()"
   ]
  },
  {
   "cell_type": "code",
   "execution_count": 0,
   "metadata": {
    "application/vnd.databricks.v1+cell": {
     "inputWidgets": {},
     "nuid": "5c33f607-d08b-49e3-ab26-294e3f268fe5",
     "showTitle": false,
     "title": ""
    }
   },
   "outputs": [
    {
     "data": {
      "text/html": [
       "<style scoped>\n",
       "  .ansiout {\n",
       "    display: block;\n",
       "    unicode-bidi: embed;\n",
       "    white-space: pre-wrap;\n",
       "    word-wrap: break-word;\n",
       "    word-break: break-all;\n",
       "    font-family: \"Source Code Pro\", \"Menlo\", monospace;;\n",
       "    font-size: 13px;\n",
       "    color: #555;\n",
       "    margin-left: 4px;\n",
       "    line-height: 19px;\n",
       "  }\n",
       "</style>\n",
       "<div class=\"ansiout\">Out[56]: Subscriber    78233\n",
       "Customer      71869\n",
       "Name: user_type, dtype: int64</div>"
      ]
     },
     "metadata": {
      "application/vnd.databricks.v1+output": {
       "addedWidgets": {},
       "arguments": {},
       "data": "<div class=\"ansiout\">Out[56]: Subscriber    78233\nCustomer      71869\nName: user_type, dtype: int64</div>",
       "datasetInfos": [],
       "metadata": {},
       "removedWidgets": [],
       "type": "html"
      }
     },
     "output_type": "display_data"
    }
   ],
   "source": [
    "# Verify values in column\n",
    "df_baywheels['user_type'].value_counts()"
   ]
  },
  {
   "cell_type": "code",
   "execution_count": 0,
   "metadata": {
    "application/vnd.databricks.v1+cell": {
     "inputWidgets": {},
     "nuid": "c613c6e0-179e-4866-96e2-018953e4b199",
     "showTitle": false,
     "title": ""
    }
   },
   "outputs": [
    {
     "data": {
      "text/html": [
       "<style scoped>\n",
       "  .ansiout {\n",
       "    display: block;\n",
       "    unicode-bidi: embed;\n",
       "    white-space: pre-wrap;\n",
       "    word-wrap: break-word;\n",
       "    word-break: break-all;\n",
       "    font-family: \"Source Code Pro\", \"Menlo\", monospace;;\n",
       "    font-size: 13px;\n",
       "    color: #555;\n",
       "    margin-left: 4px;\n",
       "    line-height: 19px;\n",
       "  }\n",
       "</style>\n",
       "<div class=\"ansiout\">Out[57]: 483611    107\n",
       "615745    105\n",
       "259346     91\n",
       "282535     90\n",
       "679782     89\n",
       "         ... \n",
       "2975        1\n",
       "211         1\n",
       "231296      1\n",
       "3490        1\n",
       "1577        1\n",
       "Name: bike_id, Length: 5905, dtype: int64</div>"
      ]
     },
     "metadata": {
      "application/vnd.databricks.v1+output": {
       "addedWidgets": {},
       "arguments": {},
       "data": "<div class=\"ansiout\">Out[57]: 483611    107\n615745    105\n259346     91\n282535     90\n679782     89\n         ... \n2975        1\n211         1\n231296      1\n3490        1\n1577        1\nName: bike_id, Length: 5905, dtype: int64</div>",
       "datasetInfos": [],
       "metadata": {},
       "removedWidgets": [],
       "type": "html"
      }
     },
     "output_type": "display_data"
    }
   ],
   "source": [
    "# Verify values in column\n",
    "df_baywheels['bike_id'].value_counts()"
   ]
  },
  {
   "cell_type": "code",
   "execution_count": 0,
   "metadata": {
    "application/vnd.databricks.v1+cell": {
     "inputWidgets": {},
     "nuid": "2c166bd4-dc77-470c-b751-a13d0e277038",
     "showTitle": false,
     "title": ""
    }
   },
   "outputs": [
    {
     "data": {
      "text/html": [
       "<style scoped>\n",
       "  .ansiout {\n",
       "    display: block;\n",
       "    unicode-bidi: embed;\n",
       "    white-space: pre-wrap;\n",
       "    word-wrap: break-word;\n",
       "    word-break: break-all;\n",
       "    font-family: \"Source Code Pro\", \"Menlo\", monospace;;\n",
       "    font-size: 13px;\n",
       "    color: #555;\n",
       "    margin-left: 4px;\n",
       "    line-height: 19px;\n",
       "  }\n",
       "</style>\n",
       "<div class=\"ansiout\">Out[58]: app        23994\n",
       "clipper     3687\n",
       "Name: rental_access_method, dtype: int64</div>"
      ]
     },
     "metadata": {
      "application/vnd.databricks.v1+output": {
       "addedWidgets": {},
       "arguments": {},
       "data": "<div class=\"ansiout\">Out[58]: app        23994\nclipper     3687\nName: rental_access_method, dtype: int64</div>",
       "datasetInfos": [],
       "metadata": {},
       "removedWidgets": [],
       "type": "html"
      }
     },
     "output_type": "display_data"
    }
   ],
   "source": [
    "# Verify values in column\n",
    "df_baywheels['rental_access_method'].value_counts()"
   ]
  },
  {
   "cell_type": "code",
   "execution_count": 0,
   "metadata": {
    "application/vnd.databricks.v1+cell": {
     "inputWidgets": {},
     "nuid": "fb0e1224-b0ba-4762-8925-f56bb3101541",
     "showTitle": false,
     "title": ""
    }
   },
   "outputs": [
    {
     "data": {
      "text/html": [
       "<style scoped>\n",
       "  .ansiout {\n",
       "    display: block;\n",
       "    unicode-bidi: embed;\n",
       "    white-space: pre-wrap;\n",
       "    word-wrap: break-word;\n",
       "    word-break: break-all;\n",
       "    font-family: \"Source Code Pro\", \"Menlo\", monospace;;\n",
       "    font-size: 13px;\n",
       "    color: #555;\n",
       "    margin-left: 4px;\n",
       "    line-height: 19px;\n",
       "  }\n",
       "</style>\n",
       "<div class=\"ansiout\">Out[59]: count     150102\n",
       "unique      4606\n",
       "top          380\n",
       "freq         226\n",
       "Name: duration_sec, dtype: object</div>"
      ]
     },
     "metadata": {
      "application/vnd.databricks.v1+output": {
       "addedWidgets": {},
       "arguments": {},
       "data": "<div class=\"ansiout\">Out[59]: count     150102\nunique      4606\ntop          380\nfreq         226\nName: duration_sec, dtype: object</div>",
       "datasetInfos": [],
       "metadata": {},
       "removedWidgets": [],
       "type": "html"
      }
     },
     "output_type": "display_data"
    }
   ],
   "source": [
    "df_baywheels['duration_sec'].describe(percentiles=[.98])"
   ]
  },
  {
   "cell_type": "markdown",
   "metadata": {
    "application/vnd.databricks.v1+cell": {
     "inputWidgets": {},
     "nuid": "19846f37-5cd0-41da-84c3-bc4f653498b2",
     "showTitle": false,
     "title": ""
    }
   },
   "source": [
    "### Problème de Qualité des données \n",
    "- Types de données erronés `start_time`, `end_time` et `user_type`.\n",
    "- Valeurs nulles dans les colonnes `start_station_id`, `start_station_name`, `end_station_id`, `end_station_name` et `rental_access_method`.\n",
    "\n",
    "### Problèmes de propreté des données\n",
    "- Des colonnes individuelles sont manquantes pou **hour**, **weekday name**, **month name** et **duration in minute**.\n",
    "- les données ne sont pas ordonnées par date.\n",
    "- Colonnes qui ne seront pas utilisées."
   ]
  },
  {
   "cell_type": "markdown",
   "metadata": {
    "application/vnd.databricks.v1+cell": {
     "inputWidgets": {},
     "nuid": "7072d717-cb73-4f2c-b7a0-c2d5010954f5",
     "showTitle": false,
     "title": ""
    }
   },
   "source": [
    "<a id='cleaning'></a>\n",
    "## Nettoyage des données"
   ]
  },
  {
   "cell_type": "code",
   "execution_count": 0,
   "metadata": {
    "application/vnd.databricks.v1+cell": {
     "inputWidgets": {},
     "nuid": "9d4947c1-83c1-4820-8f5a-35608d0e0fe1",
     "showTitle": false,
     "title": ""
    }
   },
   "outputs": [
    {
     "data": {
      "text/html": [
       "<style scoped>\n",
       "  .ansiout {\n",
       "    display: block;\n",
       "    unicode-bidi: embed;\n",
       "    white-space: pre-wrap;\n",
       "    word-wrap: break-word;\n",
       "    word-break: break-all;\n",
       "    font-family: \"Source Code Pro\", \"Menlo\", monospace;;\n",
       "    font-size: 13px;\n",
       "    color: #555;\n",
       "    margin-left: 4px;\n",
       "    line-height: 19px;\n",
       "  }\n",
       "</style>\n",
       "<div class=\"ansiout\"></div>"
      ]
     },
     "metadata": {
      "application/vnd.databricks.v1+output": {
       "addedWidgets": {},
       "arguments": {},
       "data": "<div class=\"ansiout\"></div>",
       "datasetInfos": [],
       "metadata": {},
       "removedWidgets": [],
       "type": "html"
      }
     },
     "output_type": "display_data"
    }
   ],
   "source": [
    "# Create copy of dataset\n",
    "df_baywheels_clean = df_baywheels.copy()"
   ]
  },
  {
   "cell_type": "markdown",
   "metadata": {
    "application/vnd.databricks.v1+cell": {
     "inputWidgets": {},
     "nuid": "4946e1b0-db26-4c53-91d6-de6a50d80bd1",
     "showTitle": false,
     "title": ""
    }
   },
   "source": [
    "### Quality Issues\n",
    "#### Nulls values in columns in `start_station_id`, `start_station_name`, `end_station_id`, `end_station_name`, `bike_share_for_all_trip` and `rental_access_method`.\n",
    "\n",
    "#####  Define\n",
    "Delete columns `start_station_id`, `end_station_id` and `bike_share_for_all_trip` because I will not use them.\n",
    "\n",
    "Delete column `rental_access_method` because it have 91% of values as null.\n",
    "\n",
    "Delete rows in `start_station_name` and `end_station_name` because it only have 3% of values as null.\n",
    "\n",
    "##### Code"
   ]
  },
  {
   "cell_type": "markdown",
   "metadata": {
    "application/vnd.databricks.v1+cell": {
     "inputWidgets": {},
     "nuid": "3b7a7c89-865d-4386-8e00-b0e68c32e9d3",
     "showTitle": false,
     "title": ""
    }
   },
   "source": [
    "##### - suppression des colonnes qui ne seront pas utilisées : \"start_station_id\", \"end_station_id\", \"start_station_latitude\", \"start_station_longitude\",           \"end_station_latitude\", \"end_station_longitude\" and \"bike_id\""
   ]
  },
  {
   "cell_type": "code",
   "execution_count": 0,
   "metadata": {
    "application/vnd.databricks.v1+cell": {
     "inputWidgets": {},
     "nuid": "755f947a-668b-4aa0-8437-74ce1be96f0d",
     "showTitle": false,
     "title": ""
    }
   },
   "outputs": [
    {
     "data": {
      "text/html": [
       "<style scoped>\n",
       "  .ansiout {\n",
       "    display: block;\n",
       "    unicode-bidi: embed;\n",
       "    white-space: pre-wrap;\n",
       "    word-wrap: break-word;\n",
       "    word-break: break-all;\n",
       "    font-family: \"Source Code Pro\", \"Menlo\", monospace;;\n",
       "    font-size: 13px;\n",
       "    color: #555;\n",
       "    margin-left: 4px;\n",
       "    line-height: 19px;\n",
       "  }\n",
       "</style>"
      ]
     },
     "metadata": {
      "application/vnd.databricks.v1+output": {
       "arguments": {},
       "data": "",
       "errorSummary": "",
       "errorTraceType": null,
       "metadata": {},
       "type": "ipynbError"
      }
     },
     "output_type": "display_data"
    }
   ],
   "source": [
    "# Drop columns 'start_station_id', 'end_station_id',\"start_station_latitude\", \"start_station_longitude\", \"end_station_latitude\", \"end_station_longitude\" and \"bike_id\"\n",
    "df_baywheels_clean = df_baywheels_clean.drop([ 'start_station_id', 'end_station_id','start_station_latitude', 'start_station_longitude', 'end_station_latitude', 'end_station_longitude', 'bike_id'], axis=1)"
   ]
  },
  {
   "cell_type": "markdown",
   "metadata": {
    "application/vnd.databricks.v1+cell": {
     "inputWidgets": {},
     "nuid": "46ab1a9e-fbb0-4f6d-93be-5884ee9f36eb",
     "showTitle": false,
     "title": ""
    }
   },
   "source": [
    "##### - suppression de la colonne \"rental_access_method\" car elle contient 81% des null."
   ]
  },
  {
   "cell_type": "code",
   "execution_count": 0,
   "metadata": {
    "application/vnd.databricks.v1+cell": {
     "inputWidgets": {},
     "nuid": "787e18ed-344e-418e-88d1-a378292ece93",
     "showTitle": false,
     "title": ""
    }
   },
   "outputs": [
    {
     "data": {
      "text/html": [
       "<style scoped>\n",
       "  .ansiout {\n",
       "    display: block;\n",
       "    unicode-bidi: embed;\n",
       "    white-space: pre-wrap;\n",
       "    word-wrap: break-word;\n",
       "    word-break: break-all;\n",
       "    font-family: \"Source Code Pro\", \"Menlo\", monospace;;\n",
       "    font-size: 13px;\n",
       "    color: #555;\n",
       "    margin-left: 4px;\n",
       "    line-height: 19px;\n",
       "  }\n",
       "</style>\n",
       "<div class=\"ansiout\"></div>"
      ]
     },
     "metadata": {
      "application/vnd.databricks.v1+output": {
       "addedWidgets": {},
       "arguments": {},
       "data": "<div class=\"ansiout\"></div>",
       "datasetInfos": [],
       "metadata": {},
       "removedWidgets": [],
       "type": "html"
      }
     },
     "output_type": "display_data"
    }
   ],
   "source": [
    "# Drop column \"rental_access_method\"\n",
    "df_baywheels_clean = df_baywheels_clean.drop(['rental_access_method'], axis=1)"
   ]
  },
  {
   "cell_type": "markdown",
   "metadata": {
    "application/vnd.databricks.v1+cell": {
     "inputWidgets": {},
     "nuid": "340d51f7-f937-460e-a91c-a5d817be4c11",
     "showTitle": false,
     "title": ""
    }
   },
   "source": [
    "###### supression des enregistrement qui contiennent des valeurs null pour les colonnes : 'start_station_name' et 'end_station_name'"
   ]
  },
  {
   "cell_type": "code",
   "execution_count": 0,
   "metadata": {
    "application/vnd.databricks.v1+cell": {
     "inputWidgets": {},
     "nuid": "c86260ac-fef5-4581-94a7-77db63e58840",
     "showTitle": false,
     "title": ""
    }
   },
   "outputs": [
    {
     "data": {
      "text/html": [
       "<style scoped>\n",
       "  .ansiout {\n",
       "    display: block;\n",
       "    unicode-bidi: embed;\n",
       "    white-space: pre-wrap;\n",
       "    word-wrap: break-word;\n",
       "    word-break: break-all;\n",
       "    font-family: \"Source Code Pro\", \"Menlo\", monospace;;\n",
       "    font-size: 13px;\n",
       "    color: #555;\n",
       "    margin-left: 4px;\n",
       "    line-height: 19px;\n",
       "  }\n",
       "</style>\n",
       "<div class=\"ansiout\"></div>"
      ]
     },
     "metadata": {
      "application/vnd.databricks.v1+output": {
       "addedWidgets": {},
       "arguments": {},
       "data": "<div class=\"ansiout\"></div>",
       "datasetInfos": [],
       "metadata": {},
       "removedWidgets": [],
       "type": "html"
      }
     },
     "output_type": "display_data"
    }
   ],
   "source": [
    "# Drop rows in start_station_name and end_station_name\n",
    "df_baywheels_clean = df_baywheels_clean[~((df_baywheels_clean['start_station_name'].isnull()) | df_baywheels_clean['end_station_name'].isnull())]"
   ]
  },
  {
   "cell_type": "markdown",
   "metadata": {
    "application/vnd.databricks.v1+cell": {
     "inputWidgets": {},
     "nuid": "494a38bf-e39e-4f2a-bf84-6a8dae3808cd",
     "showTitle": false,
     "title": ""
    }
   },
   "source": [
    "##### Test"
   ]
  },
  {
   "cell_type": "code",
   "execution_count": 0,
   "metadata": {
    "application/vnd.databricks.v1+cell": {
     "inputWidgets": {},
     "nuid": "d3fcc731-c129-42af-89bb-eabe77cdfaca",
     "showTitle": false,
     "title": ""
    }
   },
   "outputs": [
    {
     "data": {
      "text/html": [
       "<style scoped>\n",
       "  .ansiout {\n",
       "    display: block;\n",
       "    unicode-bidi: embed;\n",
       "    white-space: pre-wrap;\n",
       "    word-wrap: break-word;\n",
       "    word-break: break-all;\n",
       "    font-family: \"Source Code Pro\", \"Menlo\", monospace;;\n",
       "    font-size: 13px;\n",
       "    color: #555;\n",
       "    margin-left: 4px;\n",
       "    line-height: 19px;\n",
       "  }\n",
       "</style>\n",
       "<div class=\"ansiout\">Out[63]: duration_sec               0\n",
       "start_time                 0\n",
       "end_time                   0\n",
       "start_station_name         0\n",
       "start_station_latitude     0\n",
       "start_station_longitude    0\n",
       "end_station_name           0\n",
       "end_station_latitude       0\n",
       "end_station_longitude      0\n",
       "bike_id                    0\n",
       "user_type                  0\n",
       "dtype: int64</div>"
      ]
     },
     "metadata": {
      "application/vnd.databricks.v1+output": {
       "addedWidgets": {},
       "arguments": {},
       "data": "<div class=\"ansiout\">Out[63]: duration_sec               0\nstart_time                 0\nend_time                   0\nstart_station_name         0\nstart_station_latitude     0\nstart_station_longitude    0\nend_station_name           0\nend_station_latitude       0\nend_station_longitude      0\nbike_id                    0\nuser_type                  0\ndtype: int64</div>",
       "datasetInfos": [],
       "metadata": {},
       "removedWidgets": [],
       "type": "html"
      }
     },
     "output_type": "display_data"
    }
   ],
   "source": [
    "# Verify nulls values\n",
    "df_baywheels_clean.isnull().sum()"
   ]
  },
  {
   "cell_type": "code",
   "execution_count": 0,
   "metadata": {
    "application/vnd.databricks.v1+cell": {
     "inputWidgets": {},
     "nuid": "39bd3835-4244-4e98-8512-9e82d757e658",
     "showTitle": false,
     "title": ""
    }
   },
   "outputs": [
    {
     "data": {
      "text/html": [
       "<style scoped>\n",
       "  .ansiout {\n",
       "    display: block;\n",
       "    unicode-bidi: embed;\n",
       "    white-space: pre-wrap;\n",
       "    word-wrap: break-word;\n",
       "    word-break: break-all;\n",
       "    font-family: \"Source Code Pro\", \"Menlo\", monospace;;\n",
       "    font-size: 13px;\n",
       "    color: #555;\n",
       "    margin-left: 4px;\n",
       "    line-height: 19px;\n",
       "  }\n",
       "</style>\n",
       "<div class=\"ansiout\">&lt;class &#39;pandas.core.frame.DataFrame&#39;&gt;\n",
       "Int64Index: 125638 entries, 0 to 149779\n",
       "Data columns (total 11 columns):\n",
       " #   Column                   Non-Null Count   Dtype \n",
       "---  ------                   --------------   ----- \n",
       " 0   duration_sec             125638 non-null  object\n",
       " 1   start_time               125638 non-null  object\n",
       " 2   end_time                 125638 non-null  object\n",
       " 3   start_station_name       125638 non-null  object\n",
       " 4   start_station_latitude   125638 non-null  object\n",
       " 5   start_station_longitude  125638 non-null  object\n",
       " 6   end_station_name         125638 non-null  object\n",
       " 7   end_station_latitude     125638 non-null  object\n",
       " 8   end_station_longitude    125638 non-null  object\n",
       " 9   bike_id                  125638 non-null  object\n",
       " 10  user_type                125638 non-null  object\n",
       "dtypes: object(11)\n",
       "memory usage: 11.5+ MB\n",
       "</div>"
      ]
     },
     "metadata": {
      "application/vnd.databricks.v1+output": {
       "addedWidgets": {},
       "arguments": {},
       "data": "<div class=\"ansiout\">&lt;class &#39;pandas.core.frame.DataFrame&#39;&gt;\nInt64Index: 125638 entries, 0 to 149779\nData columns (total 11 columns):\n #   Column                   Non-Null Count   Dtype \n---  ------                   --------------   ----- \n 0   duration_sec             125638 non-null  object\n 1   start_time               125638 non-null  object\n 2   end_time                 125638 non-null  object\n 3   start_station_name       125638 non-null  object\n 4   start_station_latitude   125638 non-null  object\n 5   start_station_longitude  125638 non-null  object\n 6   end_station_name         125638 non-null  object\n 7   end_station_latitude     125638 non-null  object\n 8   end_station_longitude    125638 non-null  object\n 9   bike_id                  125638 non-null  object\n 10  user_type                125638 non-null  object\ndtypes: object(11)\nmemory usage: 11.5+ MB\n</div>",
       "datasetInfos": [],
       "metadata": {},
       "removedWidgets": [],
       "type": "html"
      }
     },
     "output_type": "display_data"
    }
   ],
   "source": [
    "# Verify info\n",
    "df_baywheels_clean.info()"
   ]
  },
  {
   "cell_type": "markdown",
   "metadata": {
    "application/vnd.databricks.v1+cell": {
     "inputWidgets": {},
     "nuid": "1c63d0fb-74cb-4eec-b37b-690460e8acf3",
     "showTitle": false,
     "title": ""
    }
   },
   "source": [
    "#### attribuer le type correcte pour les colonnes :  `start_time`, `end_time` , `user_type` `duration_sec` ."
   ]
  },
  {
   "cell_type": "code",
   "execution_count": 0,
   "metadata": {
    "application/vnd.databricks.v1+cell": {
     "inputWidgets": {},
     "nuid": "e99658b3-d9a3-4e0d-b473-1f4bc7619f59",
     "showTitle": false,
     "title": ""
    }
   },
   "outputs": [
    {
     "data": {
      "text/html": [
       "<style scoped>\n",
       "  .ansiout {\n",
       "    display: block;\n",
       "    unicode-bidi: embed;\n",
       "    white-space: pre-wrap;\n",
       "    word-wrap: break-word;\n",
       "    word-break: break-all;\n",
       "    font-family: \"Source Code Pro\", \"Menlo\", monospace;;\n",
       "    font-size: 13px;\n",
       "    color: #555;\n",
       "    margin-left: 4px;\n",
       "    line-height: 19px;\n",
       "  }\n",
       "</style>\n",
       "<div class=\"ansiout\"></div>"
      ]
     },
     "metadata": {
      "application/vnd.databricks.v1+output": {
       "addedWidgets": {},
       "arguments": {},
       "data": "<div class=\"ansiout\"></div>",
       "datasetInfos": [],
       "metadata": {},
       "removedWidgets": [],
       "type": "html"
      }
     },
     "output_type": "display_data"
    }
   ],
   "source": [
    "# Set datatype in start_time and end_time to datetime \n",
    "df_baywheels_clean['start_time'] = pd.to_datetime(df_baywheels_clean['start_time'])\n",
    "df_baywheels_clean['end_time'] = pd.to_datetime(df_baywheels_clean['end_time'])"
   ]
  },
  {
   "cell_type": "code",
   "execution_count": 0,
   "metadata": {
    "application/vnd.databricks.v1+cell": {
     "inputWidgets": {},
     "nuid": "0124bb72-0ae3-4b1f-a31e-b9de00fab49f",
     "showTitle": false,
     "title": ""
    }
   },
   "outputs": [
    {
     "data": {
      "text/html": [
       "<style scoped>\n",
       "  .ansiout {\n",
       "    display: block;\n",
       "    unicode-bidi: embed;\n",
       "    white-space: pre-wrap;\n",
       "    word-wrap: break-word;\n",
       "    word-break: break-all;\n",
       "    font-family: \"Source Code Pro\", \"Menlo\", monospace;;\n",
       "    font-size: 13px;\n",
       "    color: #555;\n",
       "    margin-left: 4px;\n",
       "    line-height: 19px;\n",
       "  }\n",
       "</style>\n",
       "<div class=\"ansiout\"></div>"
      ]
     },
     "metadata": {
      "application/vnd.databricks.v1+output": {
       "addedWidgets": {},
       "arguments": {},
       "data": "<div class=\"ansiout\"></div>",
       "datasetInfos": [],
       "metadata": {},
       "removedWidgets": [],
       "type": "html"
      }
     },
     "output_type": "display_data"
    }
   ],
   "source": [
    "# Set \"user_type\" as category type\n",
    "df_baywheels_clean['user_type'] = df_baywheels_clean['user_type'].astype('category')"
   ]
  },
  {
   "cell_type": "code",
   "execution_count": 0,
   "metadata": {
    "application/vnd.databricks.v1+cell": {
     "inputWidgets": {},
     "nuid": "7a96250d-409b-4157-a8c5-cace8af32d14",
     "showTitle": false,
     "title": ""
    }
   },
   "outputs": [
    {
     "data": {
      "text/html": [
       "<style scoped>\n",
       "  .ansiout {\n",
       "    display: block;\n",
       "    unicode-bidi: embed;\n",
       "    white-space: pre-wrap;\n",
       "    word-wrap: break-word;\n",
       "    word-break: break-all;\n",
       "    font-family: \"Source Code Pro\", \"Menlo\", monospace;;\n",
       "    font-size: 13px;\n",
       "    color: #555;\n",
       "    margin-left: 4px;\n",
       "    line-height: 19px;\n",
       "  }\n",
       "</style>\n",
       "<div class=\"ansiout\"></div>"
      ]
     },
     "metadata": {
      "application/vnd.databricks.v1+output": {
       "addedWidgets": {},
       "arguments": {},
       "data": "<div class=\"ansiout\"></div>",
       "datasetInfos": [],
       "metadata": {},
       "removedWidgets": [],
       "type": "html"
      }
     },
     "output_type": "display_data"
    }
   ],
   "source": [
    "#set duration_sec as integer type\n",
    "df_baywheels_clean['duration_sec'] = df_baywheels_clean['duration_sec'].astype('float64')"
   ]
  },
  {
   "cell_type": "markdown",
   "metadata": {
    "application/vnd.databricks.v1+cell": {
     "inputWidgets": {},
     "nuid": "88112a23-fe3e-4bd3-b180-7f1338f90193",
     "showTitle": false,
     "title": ""
    }
   },
   "source": [
    "##### Test"
   ]
  },
  {
   "cell_type": "code",
   "execution_count": 0,
   "metadata": {
    "application/vnd.databricks.v1+cell": {
     "inputWidgets": {},
     "nuid": "4a5f21c3-54ba-45ed-97b6-f24cdf99a714",
     "showTitle": false,
     "title": ""
    }
   },
   "outputs": [
    {
     "data": {
      "text/html": [
       "<style scoped>\n",
       "  .ansiout {\n",
       "    display: block;\n",
       "    unicode-bidi: embed;\n",
       "    white-space: pre-wrap;\n",
       "    word-wrap: break-word;\n",
       "    word-break: break-all;\n",
       "    font-family: \"Source Code Pro\", \"Menlo\", monospace;;\n",
       "    font-size: 13px;\n",
       "    color: #555;\n",
       "    margin-left: 4px;\n",
       "    line-height: 19px;\n",
       "  }\n",
       "</style>\n",
       "<div class=\"ansiout\">&lt;class &#39;pandas.core.frame.DataFrame&#39;&gt;\n",
       "Int64Index: 125638 entries, 0 to 149779\n",
       "Data columns (total 11 columns):\n",
       " #   Column                   Non-Null Count   Dtype         \n",
       "---  ------                   --------------   -----         \n",
       " 0   duration_sec             125638 non-null  float64       \n",
       " 1   start_time               125638 non-null  datetime64[ns]\n",
       " 2   end_time                 125638 non-null  datetime64[ns]\n",
       " 3   start_station_name       125638 non-null  object        \n",
       " 4   start_station_latitude   125638 non-null  object        \n",
       " 5   start_station_longitude  125638 non-null  object        \n",
       " 6   end_station_name         125638 non-null  object        \n",
       " 7   end_station_latitude     125638 non-null  object        \n",
       " 8   end_station_longitude    125638 non-null  object        \n",
       " 9   bike_id                  125638 non-null  object        \n",
       " 10  user_type                125638 non-null  category      \n",
       "dtypes: category(1), datetime64[ns](2), float64(1), object(7)\n",
       "memory usage: 10.7+ MB\n",
       "</div>"
      ]
     },
     "metadata": {
      "application/vnd.databricks.v1+output": {
       "addedWidgets": {},
       "arguments": {},
       "data": "<div class=\"ansiout\">&lt;class &#39;pandas.core.frame.DataFrame&#39;&gt;\nInt64Index: 125638 entries, 0 to 149779\nData columns (total 11 columns):\n #   Column                   Non-Null Count   Dtype         \n---  ------                   --------------   -----         \n 0   duration_sec             125638 non-null  float64       \n 1   start_time               125638 non-null  datetime64[ns]\n 2   end_time                 125638 non-null  datetime64[ns]\n 3   start_station_name       125638 non-null  object        \n 4   start_station_latitude   125638 non-null  object        \n 5   start_station_longitude  125638 non-null  object        \n 6   end_station_name         125638 non-null  object        \n 7   end_station_latitude     125638 non-null  object        \n 8   end_station_longitude    125638 non-null  object        \n 9   bike_id                  125638 non-null  object        \n 10  user_type                125638 non-null  category      \ndtypes: category(1), datetime64[ns](2), float64(1), object(7)\nmemory usage: 10.7+ MB\n</div>",
       "datasetInfos": [],
       "metadata": {},
       "removedWidgets": [],
       "type": "html"
      }
     },
     "output_type": "display_data"
    }
   ],
   "source": [
    "# Verify info\n",
    "df_baywheels_clean.info()"
   ]
  },
  {
   "cell_type": "markdown",
   "metadata": {
    "application/vnd.databricks.v1+cell": {
     "inputWidgets": {},
     "nuid": "7fe97d59-7c11-4903-9d3a-06194912c7e1",
     "showTitle": false,
     "title": ""
    }
   },
   "source": [
    "#### - Création des colonnes intermédiaires pour mieux analyser nos données : `start_time_hour`, `end_time_hour`, `time_day_of_week`, `time_month` et `duration_minute`"
   ]
  },
  {
   "cell_type": "code",
   "execution_count": 0,
   "metadata": {
    "application/vnd.databricks.v1+cell": {
     "inputWidgets": {},
     "nuid": "18c6905e-d7f0-4903-a892-b537b1bdf3b2",
     "showTitle": false,
     "title": ""
    }
   },
   "outputs": [
    {
     "data": {
      "text/html": [
       "<style scoped>\n",
       "  .ansiout {\n",
       "    display: block;\n",
       "    unicode-bidi: embed;\n",
       "    white-space: pre-wrap;\n",
       "    word-wrap: break-word;\n",
       "    word-break: break-all;\n",
       "    font-family: \"Source Code Pro\", \"Menlo\", monospace;;\n",
       "    font-size: 13px;\n",
       "    color: #555;\n",
       "    margin-left: 4px;\n",
       "    line-height: 19px;\n",
       "  }\n",
       "</style>\n",
       "<div class=\"ansiout\"></div>"
      ]
     },
     "metadata": {
      "application/vnd.databricks.v1+output": {
       "addedWidgets": {},
       "arguments": {},
       "data": "<div class=\"ansiout\"></div>",
       "datasetInfos": [],
       "metadata": {},
       "removedWidgets": [],
       "type": "html"
      }
     },
     "output_type": "display_data"
    }
   ],
   "source": [
    "# Create columns \"start_time_hour\", \"end_time_hour\", \"time_day_of_week\", \"time_month\", \"duration_minute\" and \"time_week_type\"\n",
    "df_baywheels_clean['start_time_hour'] = df_baywheels_clean['start_time'].dt.hour # Get hour\n",
    "df_baywheels_clean['end_time_hour'] = df_baywheels_clean['end_time'].dt.hour # Get hour\n",
    "df_baywheels_clean['time_day_of_week'] = df_baywheels_clean['start_time'].dt.day_name() # Get day of week name\n",
    "df_baywheels_clean['time_month'] = df_baywheels_clean['start_time'].dt.month_name() # Get month name\n",
    "df_baywheels_clean['duration_minute'] = df_baywheels_clean['duration_sec'].apply(lambda x: round(x / 60, 2)) # Transform second to minute"
   ]
  },
  {
   "cell_type": "code",
   "execution_count": 0,
   "metadata": {
    "application/vnd.databricks.v1+cell": {
     "inputWidgets": {},
     "nuid": "cf768361-94a2-42c8-a00e-9ebee11b0505",
     "showTitle": false,
     "title": ""
    }
   },
   "outputs": [
    {
     "data": {
      "text/html": [
       "<style scoped>\n",
       "  .ansiout {\n",
       "    display: block;\n",
       "    unicode-bidi: embed;\n",
       "    white-space: pre-wrap;\n",
       "    word-wrap: break-word;\n",
       "    word-break: break-all;\n",
       "    font-family: \"Source Code Pro\", \"Menlo\", monospace;;\n",
       "    font-size: 13px;\n",
       "    color: #555;\n",
       "    margin-left: 4px;\n",
       "    line-height: 19px;\n",
       "  }\n",
       "</style>\n",
       "<div class=\"ansiout\"></div>"
      ]
     },
     "metadata": {
      "application/vnd.databricks.v1+output": {
       "addedWidgets": {},
       "arguments": {},
       "data": "<div class=\"ansiout\"></div>",
       "datasetInfos": [],
       "metadata": {},
       "removedWidgets": [],
       "type": "html"
      }
     },
     "output_type": "display_data"
    }
   ],
   "source": [
    "# Set \"time_week_type\" as category type and ordered\n",
    "day_of_week = ['Monday', 'Tuesday', 'Wednesday', 'Thursday', 'Friday', 'Saturday', 'Sunday']\n",
    "day_of_week_classes = pd.api.types.CategoricalDtype(ordered = True, categories = day_of_week)\n",
    "df_baywheels_clean['time_day_of_week'] = df_baywheels_clean['time_day_of_week'].astype(day_of_week_classes)"
   ]
  },
  {
   "cell_type": "code",
   "execution_count": 0,
   "metadata": {
    "application/vnd.databricks.v1+cell": {
     "inputWidgets": {},
     "nuid": "d05be6f4-8711-4999-acd1-74a6a4331f96",
     "showTitle": false,
     "title": ""
    }
   },
   "outputs": [
    {
     "data": {
      "text/html": [
       "<style scoped>\n",
       "  .ansiout {\n",
       "    display: block;\n",
       "    unicode-bidi: embed;\n",
       "    white-space: pre-wrap;\n",
       "    word-wrap: break-word;\n",
       "    word-break: break-all;\n",
       "    font-family: \"Source Code Pro\", \"Menlo\", monospace;;\n",
       "    font-size: 13px;\n",
       "    color: #555;\n",
       "    margin-left: 4px;\n",
       "    line-height: 19px;\n",
       "  }\n",
       "</style>\n",
       "<div class=\"ansiout\"></div>"
      ]
     },
     "metadata": {
      "application/vnd.databricks.v1+output": {
       "addedWidgets": {},
       "arguments": {},
       "data": "<div class=\"ansiout\"></div>",
       "datasetInfos": [],
       "metadata": {},
       "removedWidgets": [],
       "type": "html"
      }
     },
     "output_type": "display_data"
    }
   ],
   "source": [
    "# Set \"time_month\" as category type and ordered\n",
    "month_name = ['January', 'February', 'March', 'April', 'May', 'June', 'July', 'August', 'September', 'October', 'November', 'December']\n",
    "month_name_classes = pd.api.types.CategoricalDtype(ordered = True, categories = month_name)\n",
    "df_baywheels_clean['time_month'] = df_baywheels_clean['time_month'].astype(month_name_classes)"
   ]
  },
  {
   "cell_type": "markdown",
   "metadata": {
    "application/vnd.databricks.v1+cell": {
     "inputWidgets": {},
     "nuid": "3a0babf9-5aff-48c6-bc4b-9d49676e024e",
     "showTitle": false,
     "title": ""
    }
   },
   "source": [
    "##### Test"
   ]
  },
  {
   "cell_type": "code",
   "execution_count": 0,
   "metadata": {
    "application/vnd.databricks.v1+cell": {
     "inputWidgets": {},
     "nuid": "dcefaa63-3da9-4a33-ad8f-87515941eaa2",
     "showTitle": false,
     "title": ""
    }
   },
   "outputs": [
    {
     "data": {
      "text/html": [
       "<style scoped>\n",
       "  .ansiout {\n",
       "    display: block;\n",
       "    unicode-bidi: embed;\n",
       "    white-space: pre-wrap;\n",
       "    word-wrap: break-word;\n",
       "    word-break: break-all;\n",
       "    font-family: \"Source Code Pro\", \"Menlo\", monospace;;\n",
       "    font-size: 13px;\n",
       "    color: #555;\n",
       "    margin-left: 4px;\n",
       "    line-height: 19px;\n",
       "  }\n",
       "</style>\n",
       "<div class=\"ansiout\">&lt;class &#39;pandas.core.frame.DataFrame&#39;&gt;\n",
       "Int64Index: 123123 entries, 0 to 149779\n",
       "Data columns (total 16 columns):\n",
       " #   Column                   Non-Null Count   Dtype         \n",
       "---  ------                   --------------   -----         \n",
       " 0   duration_sec             123123 non-null  float64       \n",
       " 1   start_time               123123 non-null  datetime64[ns]\n",
       " 2   end_time                 123123 non-null  datetime64[ns]\n",
       " 3   start_station_name       123123 non-null  object        \n",
       " 4   start_station_latitude   123123 non-null  object        \n",
       " 5   start_station_longitude  123123 non-null  object        \n",
       " 6   end_station_name         123123 non-null  object        \n",
       " 7   end_station_latitude     123123 non-null  object        \n",
       " 8   end_station_longitude    123123 non-null  object        \n",
       " 9   bike_id                  123123 non-null  object        \n",
       " 10  user_type                123123 non-null  category      \n",
       " 11  start_time_hour          123123 non-null  int64         \n",
       " 12  end_time_hour            123123 non-null  int64         \n",
       " 13  time_day_of_week         123123 non-null  category      \n",
       " 14  time_month               123123 non-null  category      \n",
       " 15  duration_minute          123123 non-null  float64       \n",
       "dtypes: category(3), datetime64[ns](2), float64(2), int64(2), object(7)\n",
       "memory usage: 13.5+ MB\n",
       "</div>"
      ]
     },
     "metadata": {
      "application/vnd.databricks.v1+output": {
       "addedWidgets": {},
       "arguments": {},
       "data": "<div class=\"ansiout\">&lt;class &#39;pandas.core.frame.DataFrame&#39;&gt;\nInt64Index: 123123 entries, 0 to 149779\nData columns (total 16 columns):\n #   Column                   Non-Null Count   Dtype         \n---  ------                   --------------   -----         \n 0   duration_sec             123123 non-null  float64       \n 1   start_time               123123 non-null  datetime64[ns]\n 2   end_time                 123123 non-null  datetime64[ns]\n 3   start_station_name       123123 non-null  object        \n 4   start_station_latitude   123123 non-null  object        \n 5   start_station_longitude  123123 non-null  object        \n 6   end_station_name         123123 non-null  object        \n 7   end_station_latitude     123123 non-null  object        \n 8   end_station_longitude    123123 non-null  object        \n 9   bike_id                  123123 non-null  object        \n 10  user_type                123123 non-null  category      \n 11  start_time_hour          123123 non-null  int64         \n 12  end_time_hour            123123 non-null  int64         \n 13  time_day_of_week         123123 non-null  category      \n 14  time_month               123123 non-null  category      \n 15  duration_minute          123123 non-null  float64       \ndtypes: category(3), datetime64[ns](2), float64(2), int64(2), object(7)\nmemory usage: 13.5+ MB\n</div>",
       "datasetInfos": [],
       "metadata": {},
       "removedWidgets": [],
       "type": "html"
      }
     },
     "output_type": "display_data"
    }
   ],
   "source": [
    "# Verify info\n",
    "df_baywheels_clean.info()"
   ]
  },
  {
   "cell_type": "code",
   "execution_count": 0,
   "metadata": {
    "application/vnd.databricks.v1+cell": {
     "inputWidgets": {},
     "nuid": "d293317b-3fc9-4fdc-90e5-68ac2a8dcc2f",
     "showTitle": false,
     "title": ""
    }
   },
   "outputs": [
    {
     "data": {
      "text/html": [
       "<style scoped>\n",
       "  .ansiout {\n",
       "    display: block;\n",
       "    unicode-bidi: embed;\n",
       "    white-space: pre-wrap;\n",
       "    word-wrap: break-word;\n",
       "    word-break: break-all;\n",
       "    font-family: \"Source Code Pro\", \"Menlo\", monospace;;\n",
       "    font-size: 13px;\n",
       "    color: #555;\n",
       "    margin-left: 4px;\n",
       "    line-height: 19px;\n",
       "  }\n",
       "</style>\n",
       "<div class=\"ansiout\">Out[75]: 8     15380\n",
       "17    13814\n",
       "9     12202\n",
       "18     9910\n",
       "16     9905\n",
       "7      7141\n",
       "15     6224\n",
       "10     5990\n",
       "19     5942\n",
       "12     5362\n",
       "11     5343\n",
       "13     5213\n",
       "14     5139\n",
       "20     3804\n",
       "21     2740\n",
       "6      2678\n",
       "22     2253\n",
       "23     1360\n",
       "0       811\n",
       "5       755\n",
       "1       507\n",
       "2       310\n",
       "4       211\n",
       "3       129\n",
       "Name: start_time_hour, dtype: int64</div>"
      ]
     },
     "metadata": {
      "application/vnd.databricks.v1+output": {
       "addedWidgets": {},
       "arguments": {},
       "data": "<div class=\"ansiout\">Out[75]: 8     15380\n17    13814\n9     12202\n18     9910\n16     9905\n7      7141\n15     6224\n10     5990\n19     5942\n12     5362\n11     5343\n13     5213\n14     5139\n20     3804\n21     2740\n6      2678\n22     2253\n23     1360\n0       811\n5       755\n1       507\n2       310\n4       211\n3       129\nName: start_time_hour, dtype: int64</div>",
       "datasetInfos": [],
       "metadata": {},
       "removedWidgets": [],
       "type": "html"
      }
     },
     "output_type": "display_data"
    }
   ],
   "source": [
    "# Verify values in column\n",
    "df_baywheels_clean['start_time_hour'].value_counts()"
   ]
  },
  {
   "cell_type": "code",
   "execution_count": 0,
   "metadata": {
    "application/vnd.databricks.v1+cell": {
     "inputWidgets": {},
     "nuid": "d8597135-cdf9-42ba-8288-4ab4ac75114b",
     "showTitle": false,
     "title": ""
    }
   },
   "outputs": [
    {
     "data": {
      "text/html": [
       "<style scoped>\n",
       "  .ansiout {\n",
       "    display: block;\n",
       "    unicode-bidi: embed;\n",
       "    white-space: pre-wrap;\n",
       "    word-wrap: break-word;\n",
       "    word-break: break-all;\n",
       "    font-family: \"Source Code Pro\", \"Menlo\", monospace;;\n",
       "    font-size: 13px;\n",
       "    color: #555;\n",
       "    margin-left: 4px;\n",
       "    line-height: 19px;\n",
       "  }\n",
       "</style>\n",
       "<div class=\"ansiout\">Out[76]: 8     14031\n",
       "9     13754\n",
       "17    13477\n",
       "18    10770\n",
       "16     9312\n",
       "19     6640\n",
       "10     6600\n",
       "7      6059\n",
       "15     5761\n",
       "12     5398\n",
       "11     5269\n",
       "13     5183\n",
       "14     5152\n",
       "20     4030\n",
       "21     2900\n",
       "22     2395\n",
       "6      2189\n",
       "23     1461\n",
       "0       882\n",
       "5       620\n",
       "1       535\n",
       "2       373\n",
       "4       199\n",
       "3       133\n",
       "Name: end_time_hour, dtype: int64</div>"
      ]
     },
     "metadata": {
      "application/vnd.databricks.v1+output": {
       "addedWidgets": {},
       "arguments": {},
       "data": "<div class=\"ansiout\">Out[76]: 8     14031\n9     13754\n17    13477\n18    10770\n16     9312\n19     6640\n10     6600\n7      6059\n15     5761\n12     5398\n11     5269\n13     5183\n14     5152\n20     4030\n21     2900\n22     2395\n6      2189\n23     1461\n0       882\n5       620\n1       535\n2       373\n4       199\n3       133\nName: end_time_hour, dtype: int64</div>",
       "datasetInfos": [],
       "metadata": {},
       "removedWidgets": [],
       "type": "html"
      }
     },
     "output_type": "display_data"
    }
   ],
   "source": [
    "# Verify values in column\n",
    "df_baywheels_clean['end_time_hour'].value_counts()"
   ]
  },
  {
   "cell_type": "code",
   "execution_count": 0,
   "metadata": {
    "application/vnd.databricks.v1+cell": {
     "inputWidgets": {},
     "nuid": "40c40522-026f-4aca-8c72-e66a9ead94d3",
     "showTitle": false,
     "title": ""
    }
   },
   "outputs": [
    {
     "data": {
      "text/html": [
       "<style scoped>\n",
       "  .ansiout {\n",
       "    display: block;\n",
       "    unicode-bidi: embed;\n",
       "    white-space: pre-wrap;\n",
       "    word-wrap: break-word;\n",
       "    word-break: break-all;\n",
       "    font-family: \"Source Code Pro\", \"Menlo\", monospace;;\n",
       "    font-size: 13px;\n",
       "    color: #555;\n",
       "    margin-left: 4px;\n",
       "    line-height: 19px;\n",
       "  }\n",
       "</style>\n",
       "<div class=\"ansiout\">Out[77]: Monday       24240\n",
       "Tuesday      23446\n",
       "Thursday     21066\n",
       "Friday       19515\n",
       "Wednesday    16325\n",
       "Sunday        9377\n",
       "Saturday      9154\n",
       "Name: time_day_of_week, dtype: int64</div>"
      ]
     },
     "metadata": {
      "application/vnd.databricks.v1+output": {
       "addedWidgets": {},
       "arguments": {},
       "data": "<div class=\"ansiout\">Out[77]: Monday       24240\nTuesday      23446\nThursday     21066\nFriday       19515\nWednesday    16325\nSunday        9377\nSaturday      9154\nName: time_day_of_week, dtype: int64</div>",
       "datasetInfos": [],
       "metadata": {},
       "removedWidgets": [],
       "type": "html"
      }
     },
     "output_type": "display_data"
    }
   ],
   "source": [
    "# Verify values in column\n",
    "df_baywheels_clean['time_day_of_week'].value_counts()"
   ]
  },
  {
   "cell_type": "code",
   "execution_count": 0,
   "metadata": {
    "application/vnd.databricks.v1+cell": {
     "inputWidgets": {},
     "nuid": "ec6d4a39-c829-4770-986d-4e5a60d6eca7",
     "showTitle": false,
     "title": ""
    }
   },
   "outputs": [
    {
     "data": {
      "text/html": [
       "<style scoped>\n",
       "  .ansiout {\n",
       "    display: block;\n",
       "    unicode-bidi: embed;\n",
       "    white-space: pre-wrap;\n",
       "    word-wrap: break-word;\n",
       "    word-break: break-all;\n",
       "    font-family: \"Source Code Pro\", \"Menlo\", monospace;;\n",
       "    font-size: 13px;\n",
       "    color: #555;\n",
       "    margin-left: 4px;\n",
       "    line-height: 19px;\n",
       "  }\n",
       "</style>\n",
       "<div class=\"ansiout\">Out[78]: December     123123\n",
       "November          0\n",
       "October           0\n",
       "September         0\n",
       "August            0\n",
       "July              0\n",
       "June              0\n",
       "May               0\n",
       "April             0\n",
       "March             0\n",
       "February          0\n",
       "January           0\n",
       "Name: time_month, dtype: int64</div>"
      ]
     },
     "metadata": {
      "application/vnd.databricks.v1+output": {
       "addedWidgets": {},
       "arguments": {},
       "data": "<div class=\"ansiout\">Out[78]: December     123123\nNovember          0\nOctober           0\nSeptember         0\nAugust            0\nJuly              0\nJune              0\nMay               0\nApril             0\nMarch             0\nFebruary          0\nJanuary           0\nName: time_month, dtype: int64</div>",
       "datasetInfos": [],
       "metadata": {},
       "removedWidgets": [],
       "type": "html"
      }
     },
     "output_type": "display_data"
    }
   ],
   "source": [
    "# Verify values in column\n",
    "df_baywheels_clean['time_month'].value_counts()"
   ]
  },
  {
   "cell_type": "code",
   "execution_count": 0,
   "metadata": {
    "application/vnd.databricks.v1+cell": {
     "inputWidgets": {},
     "nuid": "6ef03f25-7c14-4c2f-9aab-967af3cbd92e",
     "showTitle": false,
     "title": ""
    }
   },
   "outputs": [
    {
     "data": {
      "text/html": [
       "<style scoped>\n",
       "  .ansiout {\n",
       "    display: block;\n",
       "    unicode-bidi: embed;\n",
       "    white-space: pre-wrap;\n",
       "    word-wrap: break-word;\n",
       "    word-break: break-all;\n",
       "    font-family: \"Source Code Pro\", \"Menlo\", monospace;;\n",
       "    font-size: 13px;\n",
       "    color: #555;\n",
       "    margin-left: 4px;\n",
       "    line-height: 19px;\n",
       "  }\n",
       "</style>\n",
       "<div class=\"ansiout\">Out[79]: 5.27     189\n",
       "6.32     189\n",
       "6.07     185\n",
       "6.33     184\n",
       "6.53     184\n",
       "        ... \n",
       "33.82      1\n",
       "39.08      1\n",
       "32.90      1\n",
       "38.18      1\n",
       "33.93      1\n",
       "Name: duration_minute, Length: 2321, dtype: int64</div>"
      ]
     },
     "metadata": {
      "application/vnd.databricks.v1+output": {
       "addedWidgets": {},
       "arguments": {},
       "data": "<div class=\"ansiout\">Out[79]: 5.27     189\n6.32     189\n6.07     185\n6.33     184\n6.53     184\n        ... \n33.82      1\n39.08      1\n32.90      1\n38.18      1\n33.93      1\nName: duration_minute, Length: 2321, dtype: int64</div>",
       "datasetInfos": [],
       "metadata": {},
       "removedWidgets": [],
       "type": "html"
      }
     },
     "output_type": "display_data"
    }
   ],
   "source": [
    "# Verify values in column\n",
    "df_baywheels_clean['duration_minute'].value_counts()"
   ]
  },
  {
   "cell_type": "markdown",
   "metadata": {
    "application/vnd.databricks.v1+cell": {
     "inputWidgets": {},
     "nuid": "4528cf0a-b669-4b26-8b86-391abb86696f",
     "showTitle": false,
     "title": ""
    }
   },
   "source": [
    "#### - Ordonner les données par date"
   ]
  },
  {
   "cell_type": "code",
   "execution_count": 0,
   "metadata": {
    "application/vnd.databricks.v1+cell": {
     "inputWidgets": {},
     "nuid": "7ab4b836-7f86-4e40-8807-0dfd79bdb59d",
     "showTitle": false,
     "title": ""
    }
   },
   "outputs": [
    {
     "data": {
      "text/html": [
       "<style scoped>\n",
       "  .ansiout {\n",
       "    display: block;\n",
       "    unicode-bidi: embed;\n",
       "    white-space: pre-wrap;\n",
       "    word-wrap: break-word;\n",
       "    word-break: break-all;\n",
       "    font-family: \"Source Code Pro\", \"Menlo\", monospace;;\n",
       "    font-size: 13px;\n",
       "    color: #555;\n",
       "    margin-left: 4px;\n",
       "    line-height: 19px;\n",
       "  }\n",
       "</style>\n",
       "<div class=\"ansiout\"></div>"
      ]
     },
     "metadata": {
      "application/vnd.databricks.v1+output": {
       "addedWidgets": {},
       "arguments": {},
       "data": "<div class=\"ansiout\"></div>",
       "datasetInfos": [],
       "metadata": {},
       "removedWidgets": [],
       "type": "html"
      }
     },
     "output_type": "display_data"
    }
   ],
   "source": [
    "# Sorted dateset by column \"start_time\"\n",
    "df_baywheels_clean = df_baywheels_clean.sort_values(by=['start_time']).reset_index(drop=True)"
   ]
  },
  {
   "cell_type": "markdown",
   "metadata": {
    "application/vnd.databricks.v1+cell": {
     "inputWidgets": {},
     "nuid": "c9993c58-a5da-4cdd-b168-dea6213ffca3",
     "showTitle": false,
     "title": ""
    }
   },
   "source": [
    "##### Test"
   ]
  },
  {
   "cell_type": "code",
   "execution_count": 0,
   "metadata": {
    "application/vnd.databricks.v1+cell": {
     "inputWidgets": {},
     "nuid": "b5ad065b-9434-4be7-ae4a-6031cb250a6c",
     "showTitle": false,
     "title": ""
    }
   },
   "outputs": [
    {
     "data": {
      "text/html": [
       "<div>\n",
       "<style scoped>\n",
       "    .dataframe tbody tr th:only-of-type {\n",
       "        vertical-align: middle;\n",
       "    }\n",
       "\n",
       "    .dataframe tbody tr th {\n",
       "        vertical-align: top;\n",
       "    }\n",
       "\n",
       "    .dataframe thead th {\n",
       "        text-align: right;\n",
       "    }\n",
       "</style>\n",
       "<table border=\"1\" class=\"dataframe\">\n",
       "  <thead>\n",
       "    <tr style=\"text-align: right;\">\n",
       "      <th></th>\n",
       "      <th>duration_sec</th>\n",
       "      <th>start_time</th>\n",
       "      <th>end_time</th>\n",
       "      <th>start_station_name</th>\n",
       "      <th>start_station_latitude</th>\n",
       "      <th>start_station_longitude</th>\n",
       "      <th>end_station_name</th>\n",
       "      <th>end_station_latitude</th>\n",
       "      <th>end_station_longitude</th>\n",
       "      <th>bike_id</th>\n",
       "      <th>user_type</th>\n",
       "      <th>start_time_hour</th>\n",
       "      <th>end_time_hour</th>\n",
       "      <th>time_day_of_week</th>\n",
       "      <th>time_month</th>\n",
       "      <th>duration_minute</th>\n",
       "    </tr>\n",
       "  </thead>\n",
       "  <tbody>\n",
       "    <tr>\n",
       "      <th>0</th>\n",
       "      <td>209.0</td>\n",
       "      <td>2019-12-01 00:00:25.336</td>\n",
       "      <td>2019-12-01 00:03:54.836</td>\n",
       "      <td>Fruitvale BART Station</td>\n",
       "      <td>37.7752321</td>\n",
       "      <td>-122.2244982</td>\n",
       "      <td>Fruitvale Ave at International Blvd</td>\n",
       "      <td>37.778058</td>\n",
       "      <td>-122.2254</td>\n",
       "      <td>1071</td>\n",
       "      <td>Customer</td>\n",
       "      <td>0</td>\n",
       "      <td>0</td>\n",
       "      <td>Sunday</td>\n",
       "      <td>December</td>\n",
       "      <td>3.48</td>\n",
       "    </tr>\n",
       "    <tr>\n",
       "      <th>1</th>\n",
       "      <td>682.0</td>\n",
       "      <td>2019-12-01 00:03:46.689</td>\n",
       "      <td>2019-12-01 00:15:09.352</td>\n",
       "      <td>22nd St Caltrain Station</td>\n",
       "      <td>37.7577040415</td>\n",
       "      <td>-122.391884923</td>\n",
       "      <td>17th St at Valencia St</td>\n",
       "      <td>37.7633158</td>\n",
       "      <td>-122.4219039</td>\n",
       "      <td>10242</td>\n",
       "      <td>Customer</td>\n",
       "      <td>0</td>\n",
       "      <td>0</td>\n",
       "      <td>Sunday</td>\n",
       "      <td>December</td>\n",
       "      <td>11.37</td>\n",
       "    </tr>\n",
       "    <tr>\n",
       "      <th>2</th>\n",
       "      <td>720.0</td>\n",
       "      <td>2019-12-01 00:07:44.840</td>\n",
       "      <td>2019-12-01 00:19:45.008</td>\n",
       "      <td>Valencia St at 21st St</td>\n",
       "      <td>37.7567083</td>\n",
       "      <td>-122.421025</td>\n",
       "      <td>Randall St at Chenery St</td>\n",
       "      <td>37.7398127173</td>\n",
       "      <td>-122.4255225062</td>\n",
       "      <td>9787</td>\n",
       "      <td>Customer</td>\n",
       "      <td>0</td>\n",
       "      <td>0</td>\n",
       "      <td>Sunday</td>\n",
       "      <td>December</td>\n",
       "      <td>12.00</td>\n",
       "    </tr>\n",
       "    <tr>\n",
       "      <th>3</th>\n",
       "      <td>305.0</td>\n",
       "      <td>2019-12-01 00:09:48.562</td>\n",
       "      <td>2019-12-01 00:14:53.578</td>\n",
       "      <td>South San Jose State (7th St at Humboldt St)</td>\n",
       "      <td>37.3203158211</td>\n",
       "      <td>-121.8700987101</td>\n",
       "      <td>5th St at Virginia St</td>\n",
       "      <td>37.3259984</td>\n",
       "      <td>-121.87712</td>\n",
       "      <td>12086</td>\n",
       "      <td>Subscriber</td>\n",
       "      <td>0</td>\n",
       "      <td>0</td>\n",
       "      <td>Sunday</td>\n",
       "      <td>December</td>\n",
       "      <td>5.08</td>\n",
       "    </tr>\n",
       "    <tr>\n",
       "      <th>4</th>\n",
       "      <td>831.0</td>\n",
       "      <td>2019-12-01 00:13:39.222</td>\n",
       "      <td>2019-12-01 00:27:31.170</td>\n",
       "      <td>Webster St at 19th St</td>\n",
       "      <td>37.806969761</td>\n",
       "      <td>-122.2665882111</td>\n",
       "      <td>Jack London Square</td>\n",
       "      <td>37.796248</td>\n",
       "      <td>-122.279352</td>\n",
       "      <td>2986</td>\n",
       "      <td>Subscriber</td>\n",
       "      <td>0</td>\n",
       "      <td>0</td>\n",
       "      <td>Sunday</td>\n",
       "      <td>December</td>\n",
       "      <td>13.85</td>\n",
       "    </tr>\n",
       "    <tr>\n",
       "      <th>...</th>\n",
       "      <td>...</td>\n",
       "      <td>...</td>\n",
       "      <td>...</td>\n",
       "      <td>...</td>\n",
       "      <td>...</td>\n",
       "      <td>...</td>\n",
       "      <td>...</td>\n",
       "      <td>...</td>\n",
       "      <td>...</td>\n",
       "      <td>...</td>\n",
       "      <td>...</td>\n",
       "      <td>...</td>\n",
       "      <td>...</td>\n",
       "      <td>...</td>\n",
       "      <td>...</td>\n",
       "      <td>...</td>\n",
       "    </tr>\n",
       "    <tr>\n",
       "      <th>123118</th>\n",
       "      <td>1275.0</td>\n",
       "      <td>2019-12-31 23:56:05.939</td>\n",
       "      <td>2020-01-01 00:17:21.935</td>\n",
       "      <td>Cruise Terminal at Pier 27</td>\n",
       "      <td>37.8042232774</td>\n",
       "      <td>-122.4016427994</td>\n",
       "      <td>Embarcadero BART Station (Beale St at Market St)</td>\n",
       "      <td>37.792251</td>\n",
       "      <td>-122.397086</td>\n",
       "      <td>9829</td>\n",
       "      <td>Customer</td>\n",
       "      <td>23</td>\n",
       "      <td>0</td>\n",
       "      <td>Tuesday</td>\n",
       "      <td>December</td>\n",
       "      <td>21.25</td>\n",
       "    </tr>\n",
       "    <tr>\n",
       "      <th>123119</th>\n",
       "      <td>782.0</td>\n",
       "      <td>2019-12-31 23:56:34.462</td>\n",
       "      <td>2020-01-01 00:09:36.705</td>\n",
       "      <td>The Embarcadero at Steuart St</td>\n",
       "      <td>37.791464</td>\n",
       "      <td>-122.391034</td>\n",
       "      <td>The Embarcadero at Steuart St</td>\n",
       "      <td>37.791464</td>\n",
       "      <td>-122.391034</td>\n",
       "      <td>11683</td>\n",
       "      <td>Customer</td>\n",
       "      <td>23</td>\n",
       "      <td>0</td>\n",
       "      <td>Tuesday</td>\n",
       "      <td>December</td>\n",
       "      <td>13.03</td>\n",
       "    </tr>\n",
       "    <tr>\n",
       "      <th>123120</th>\n",
       "      <td>781.0</td>\n",
       "      <td>2019-12-31 23:56:40.324</td>\n",
       "      <td>2020-01-01 00:09:41.545</td>\n",
       "      <td>The Embarcadero at Steuart St</td>\n",
       "      <td>37.791464</td>\n",
       "      <td>-122.391034</td>\n",
       "      <td>The Embarcadero at Steuart St</td>\n",
       "      <td>37.791464</td>\n",
       "      <td>-122.391034</td>\n",
       "      <td>11020</td>\n",
       "      <td>Customer</td>\n",
       "      <td>23</td>\n",
       "      <td>0</td>\n",
       "      <td>Tuesday</td>\n",
       "      <td>December</td>\n",
       "      <td>13.02</td>\n",
       "    </tr>\n",
       "    <tr>\n",
       "      <th>123121</th>\n",
       "      <td>185.0</td>\n",
       "      <td>2019-12-31 23:57:01.551</td>\n",
       "      <td>2020-01-01 00:00:07.494</td>\n",
       "      <td>San Francisco Public Library (Grove St at Hyde...</td>\n",
       "      <td>37.7787677</td>\n",
       "      <td>-122.4159292</td>\n",
       "      <td>Market St at Franklin St</td>\n",
       "      <td>37.7737932061</td>\n",
       "      <td>-122.4212390184</td>\n",
       "      <td>12734</td>\n",
       "      <td>Customer</td>\n",
       "      <td>23</td>\n",
       "      <td>0</td>\n",
       "      <td>Tuesday</td>\n",
       "      <td>December</td>\n",
       "      <td>3.08</td>\n",
       "    </tr>\n",
       "    <tr>\n",
       "      <th>123122</th>\n",
       "      <td>1050.0</td>\n",
       "      <td>2019-12-31 23:59:37.206</td>\n",
       "      <td>2020-01-01 00:17:08.188</td>\n",
       "      <td>Willow St at Blewett Ave</td>\n",
       "      <td>37.3090140743</td>\n",
       "      <td>-121.900010705</td>\n",
       "      <td>Pierce Ave at Market St</td>\n",
       "      <td>37.327581</td>\n",
       "      <td>-121.884559</td>\n",
       "      <td>11448</td>\n",
       "      <td>Customer</td>\n",
       "      <td>23</td>\n",
       "      <td>0</td>\n",
       "      <td>Tuesday</td>\n",
       "      <td>December</td>\n",
       "      <td>17.50</td>\n",
       "    </tr>\n",
       "  </tbody>\n",
       "</table>\n",
       "<p>123123 rows × 16 columns</p>\n",
       "</div>"
      ]
     },
     "metadata": {
      "application/vnd.databricks.v1+output": {
       "addedWidgets": {},
       "arguments": {},
       "data": "<div>\n<style scoped>\n    .dataframe tbody tr th:only-of-type {\n        vertical-align: middle;\n    }\n\n    .dataframe tbody tr th {\n        vertical-align: top;\n    }\n\n    .dataframe thead th {\n        text-align: right;\n    }\n</style>\n<table border=\"1\" class=\"dataframe\">\n  <thead>\n    <tr style=\"text-align: right;\">\n      <th></th>\n      <th>duration_sec</th>\n      <th>start_time</th>\n      <th>end_time</th>\n      <th>start_station_name</th>\n      <th>start_station_latitude</th>\n      <th>start_station_longitude</th>\n      <th>end_station_name</th>\n      <th>end_station_latitude</th>\n      <th>end_station_longitude</th>\n      <th>bike_id</th>\n      <th>user_type</th>\n      <th>start_time_hour</th>\n      <th>end_time_hour</th>\n      <th>time_day_of_week</th>\n      <th>time_month</th>\n      <th>duration_minute</th>\n    </tr>\n  </thead>\n  <tbody>\n    <tr>\n      <th>0</th>\n      <td>209.0</td>\n      <td>2019-12-01 00:00:25.336</td>\n      <td>2019-12-01 00:03:54.836</td>\n      <td>Fruitvale BART Station</td>\n      <td>37.7752321</td>\n      <td>-122.2244982</td>\n      <td>Fruitvale Ave at International Blvd</td>\n      <td>37.778058</td>\n      <td>-122.2254</td>\n      <td>1071</td>\n      <td>Customer</td>\n      <td>0</td>\n      <td>0</td>\n      <td>Sunday</td>\n      <td>December</td>\n      <td>3.48</td>\n    </tr>\n    <tr>\n      <th>1</th>\n      <td>682.0</td>\n      <td>2019-12-01 00:03:46.689</td>\n      <td>2019-12-01 00:15:09.352</td>\n      <td>22nd St Caltrain Station</td>\n      <td>37.7577040415</td>\n      <td>-122.391884923</td>\n      <td>17th St at Valencia St</td>\n      <td>37.7633158</td>\n      <td>-122.4219039</td>\n      <td>10242</td>\n      <td>Customer</td>\n      <td>0</td>\n      <td>0</td>\n      <td>Sunday</td>\n      <td>December</td>\n      <td>11.37</td>\n    </tr>\n    <tr>\n      <th>2</th>\n      <td>720.0</td>\n      <td>2019-12-01 00:07:44.840</td>\n      <td>2019-12-01 00:19:45.008</td>\n      <td>Valencia St at 21st St</td>\n      <td>37.7567083</td>\n      <td>-122.421025</td>\n      <td>Randall St at Chenery St</td>\n      <td>37.7398127173</td>\n      <td>-122.4255225062</td>\n      <td>9787</td>\n      <td>Customer</td>\n      <td>0</td>\n      <td>0</td>\n      <td>Sunday</td>\n      <td>December</td>\n      <td>12.00</td>\n    </tr>\n    <tr>\n      <th>3</th>\n      <td>305.0</td>\n      <td>2019-12-01 00:09:48.562</td>\n      <td>2019-12-01 00:14:53.578</td>\n      <td>South San Jose State (7th St at Humboldt St)</td>\n      <td>37.3203158211</td>\n      <td>-121.8700987101</td>\n      <td>5th St at Virginia St</td>\n      <td>37.3259984</td>\n      <td>-121.87712</td>\n      <td>12086</td>\n      <td>Subscriber</td>\n      <td>0</td>\n      <td>0</td>\n      <td>Sunday</td>\n      <td>December</td>\n      <td>5.08</td>\n    </tr>\n    <tr>\n      <th>4</th>\n      <td>831.0</td>\n      <td>2019-12-01 00:13:39.222</td>\n      <td>2019-12-01 00:27:31.170</td>\n      <td>Webster St at 19th St</td>\n      <td>37.806969761</td>\n      <td>-122.2665882111</td>\n      <td>Jack London Square</td>\n      <td>37.796248</td>\n      <td>-122.279352</td>\n      <td>2986</td>\n      <td>Subscriber</td>\n      <td>0</td>\n      <td>0</td>\n      <td>Sunday</td>\n      <td>December</td>\n      <td>13.85</td>\n    </tr>\n    <tr>\n      <th>...</th>\n      <td>...</td>\n      <td>...</td>\n      <td>...</td>\n      <td>...</td>\n      <td>...</td>\n      <td>...</td>\n      <td>...</td>\n      <td>...</td>\n      <td>...</td>\n      <td>...</td>\n      <td>...</td>\n      <td>...</td>\n      <td>...</td>\n      <td>...</td>\n      <td>...</td>\n      <td>...</td>\n    </tr>\n    <tr>\n      <th>123118</th>\n      <td>1275.0</td>\n      <td>2019-12-31 23:56:05.939</td>\n      <td>2020-01-01 00:17:21.935</td>\n      <td>Cruise Terminal at Pier 27</td>\n      <td>37.8042232774</td>\n      <td>-122.4016427994</td>\n      <td>Embarcadero BART Station (Beale St at Market St)</td>\n      <td>37.792251</td>\n      <td>-122.397086</td>\n      <td>9829</td>\n      <td>Customer</td>\n      <td>23</td>\n      <td>0</td>\n      <td>Tuesday</td>\n      <td>December</td>\n      <td>21.25</td>\n    </tr>\n    <tr>\n      <th>123119</th>\n      <td>782.0</td>\n      <td>2019-12-31 23:56:34.462</td>\n      <td>2020-01-01 00:09:36.705</td>\n      <td>The Embarcadero at Steuart St</td>\n      <td>37.791464</td>\n      <td>-122.391034</td>\n      <td>The Embarcadero at Steuart St</td>\n      <td>37.791464</td>\n      <td>-122.391034</td>\n      <td>11683</td>\n      <td>Customer</td>\n      <td>23</td>\n      <td>0</td>\n      <td>Tuesday</td>\n      <td>December</td>\n      <td>13.03</td>\n    </tr>\n    <tr>\n      <th>123120</th>\n      <td>781.0</td>\n      <td>2019-12-31 23:56:40.324</td>\n      <td>2020-01-01 00:09:41.545</td>\n      <td>The Embarcadero at Steuart St</td>\n      <td>37.791464</td>\n      <td>-122.391034</td>\n      <td>The Embarcadero at Steuart St</td>\n      <td>37.791464</td>\n      <td>-122.391034</td>\n      <td>11020</td>\n      <td>Customer</td>\n      <td>23</td>\n      <td>0</td>\n      <td>Tuesday</td>\n      <td>December</td>\n      <td>13.02</td>\n    </tr>\n    <tr>\n      <th>123121</th>\n      <td>185.0</td>\n      <td>2019-12-31 23:57:01.551</td>\n      <td>2020-01-01 00:00:07.494</td>\n      <td>San Francisco Public Library (Grove St at Hyde...</td>\n      <td>37.7787677</td>\n      <td>-122.4159292</td>\n      <td>Market St at Franklin St</td>\n      <td>37.7737932061</td>\n      <td>-122.4212390184</td>\n      <td>12734</td>\n      <td>Customer</td>\n      <td>23</td>\n      <td>0</td>\n      <td>Tuesday</td>\n      <td>December</td>\n      <td>3.08</td>\n    </tr>\n    <tr>\n      <th>123122</th>\n      <td>1050.0</td>\n      <td>2019-12-31 23:59:37.206</td>\n      <td>2020-01-01 00:17:08.188</td>\n      <td>Willow St at Blewett Ave</td>\n      <td>37.3090140743</td>\n      <td>-121.900010705</td>\n      <td>Pierce Ave at Market St</td>\n      <td>37.327581</td>\n      <td>-121.884559</td>\n      <td>11448</td>\n      <td>Customer</td>\n      <td>23</td>\n      <td>0</td>\n      <td>Tuesday</td>\n      <td>December</td>\n      <td>17.50</td>\n    </tr>\n  </tbody>\n</table>\n<p>123123 rows × 16 columns</p>\n</div>",
       "datasetInfos": [],
       "metadata": {},
       "removedWidgets": [],
       "textData": "<div class=\"ansiout\">Out[81]: </div>",
       "type": "htmlSandbox"
      }
     },
     "output_type": "display_data"
    }
   ],
   "source": [
    "# Verify dataset\n",
    "df_baywheels_clean"
   ]
  },
  {
   "cell_type": "code",
   "execution_count": 0,
   "metadata": {
    "application/vnd.databricks.v1+cell": {
     "inputWidgets": {},
     "nuid": "90f01751-7656-4535-ba9c-51cca4fe8d25",
     "showTitle": false,
     "title": ""
    }
   },
   "outputs": [
    {
     "data": {
      "text/html": [
       "<style scoped>\n",
       "  .ansiout {\n",
       "    display: block;\n",
       "    unicode-bidi: embed;\n",
       "    white-space: pre-wrap;\n",
       "    word-wrap: break-word;\n",
       "    word-break: break-all;\n",
       "    font-family: \"Source Code Pro\", \"Menlo\", monospace;;\n",
       "    font-size: 13px;\n",
       "    color: #555;\n",
       "    margin-left: 4px;\n",
       "    line-height: 19px;\n",
       "  }\n",
       "</style>\n",
       "<div class=\"ansiout\">&lt;class &#39;pandas.core.frame.DataFrame&#39;&gt;\n",
       "RangeIndex: 123123 entries, 0 to 123122\n",
       "Data columns (total 16 columns):\n",
       " #   Column                   Non-Null Count   Dtype         \n",
       "---  ------                   --------------   -----         \n",
       " 0   duration_sec             123123 non-null  float64       \n",
       " 1   start_time               123123 non-null  datetime64[ns]\n",
       " 2   end_time                 123123 non-null  datetime64[ns]\n",
       " 3   start_station_name       123123 non-null  object        \n",
       " 4   start_station_latitude   123123 non-null  object        \n",
       " 5   start_station_longitude  123123 non-null  object        \n",
       " 6   end_station_name         123123 non-null  object        \n",
       " 7   end_station_latitude     123123 non-null  object        \n",
       " 8   end_station_longitude    123123 non-null  object        \n",
       " 9   bike_id                  123123 non-null  object        \n",
       " 10  user_type                123123 non-null  category      \n",
       " 11  start_time_hour          123123 non-null  int64         \n",
       " 12  end_time_hour            123123 non-null  int64         \n",
       " 13  time_day_of_week         123123 non-null  category      \n",
       " 14  time_month               123123 non-null  category      \n",
       " 15  duration_minute          123123 non-null  float64       \n",
       "dtypes: category(3), datetime64[ns](2), float64(2), int64(2), object(7)\n",
       "memory usage: 12.6+ MB\n",
       "</div>"
      ]
     },
     "metadata": {
      "application/vnd.databricks.v1+output": {
       "addedWidgets": {},
       "arguments": {},
       "data": "<div class=\"ansiout\">&lt;class &#39;pandas.core.frame.DataFrame&#39;&gt;\nRangeIndex: 123123 entries, 0 to 123122\nData columns (total 16 columns):\n #   Column                   Non-Null Count   Dtype         \n---  ------                   --------------   -----         \n 0   duration_sec             123123 non-null  float64       \n 1   start_time               123123 non-null  datetime64[ns]\n 2   end_time                 123123 non-null  datetime64[ns]\n 3   start_station_name       123123 non-null  object        \n 4   start_station_latitude   123123 non-null  object        \n 5   start_station_longitude  123123 non-null  object        \n 6   end_station_name         123123 non-null  object        \n 7   end_station_latitude     123123 non-null  object        \n 8   end_station_longitude    123123 non-null  object        \n 9   bike_id                  123123 non-null  object        \n 10  user_type                123123 non-null  category      \n 11  start_time_hour          123123 non-null  int64         \n 12  end_time_hour            123123 non-null  int64         \n 13  time_day_of_week         123123 non-null  category      \n 14  time_month               123123 non-null  category      \n 15  duration_minute          123123 non-null  float64       \ndtypes: category(3), datetime64[ns](2), float64(2), int64(2), object(7)\nmemory usage: 12.6+ MB\n</div>",
       "datasetInfos": [],
       "metadata": {},
       "removedWidgets": [],
       "type": "html"
      }
     },
     "output_type": "display_data"
    }
   ],
   "source": [
    "# Verify Info\n",
    "df_baywheels_clean.info()"
   ]
  },
  {
   "cell_type": "markdown",
   "metadata": {
    "application/vnd.databricks.v1+cell": {
     "inputWidgets": {},
     "nuid": "e5981558-a95e-4d70-80f0-c594a533f595",
     "showTitle": false,
     "title": ""
    }
   },
   "source": [
    "### Dataset finale"
   ]
  },
  {
   "cell_type": "code",
   "execution_count": 0,
   "metadata": {
    "application/vnd.databricks.v1+cell": {
     "inputWidgets": {},
     "nuid": "7659a92c-36d7-46fb-ae8e-3831d53c5876",
     "showTitle": false,
     "title": ""
    }
   },
   "outputs": [
    {
     "data": {
      "text/html": [
       "<style scoped>\n",
       "  .ansiout {\n",
       "    display: block;\n",
       "    unicode-bidi: embed;\n",
       "    white-space: pre-wrap;\n",
       "    word-wrap: break-word;\n",
       "    word-break: break-all;\n",
       "    font-family: \"Source Code Pro\", \"Menlo\", monospace;;\n",
       "    font-size: 13px;\n",
       "    color: #555;\n",
       "    margin-left: 4px;\n",
       "    line-height: 19px;\n",
       "  }\n",
       "</style>\n",
       "<div class=\"ansiout\"></div>"
      ]
     },
     "metadata": {
      "application/vnd.databricks.v1+output": {
       "addedWidgets": {},
       "arguments": {},
       "data": "<div class=\"ansiout\"></div>",
       "datasetInfos": [],
       "metadata": {},
       "removedWidgets": [],
       "type": "html"
      }
     },
     "output_type": "display_data"
    }
   ],
   "source": [
    "# Copy de final dataset\n",
    "df_baywheels_final = df_baywheels_clean.copy()"
   ]
  },
  {
   "cell_type": "markdown",
   "metadata": {
    "application/vnd.databricks.v1+cell": {
     "inputWidgets": {},
     "nuid": "f6a23d7c-bc2f-4ba0-9d2b-1f130aaacf0b",
     "showTitle": false,
     "title": ""
    }
   },
   "source": [
    "<a id='analyzing'></a>\n",
    "## Analyse et visualisation des données"
   ]
  },
  {
   "cell_type": "markdown",
   "metadata": {
    "application/vnd.databricks.v1+cell": {
     "inputWidgets": {},
     "nuid": "375d250b-2986-4583-87f3-1645510a89f0",
     "showTitle": false,
     "title": ""
    }
   },
   "source": [
    "## Exploration univariée\n",
    "\n",
    "**On s'intéresse à la variable : `duration_minute`.**"
   ]
  },
  {
   "cell_type": "code",
   "execution_count": 0,
   "metadata": {
    "application/vnd.databricks.v1+cell": {
     "inputWidgets": {},
     "nuid": "8f362158-5fed-4b86-b94f-0c03fe01d0a9",
     "showTitle": false,
     "title": ""
    }
   },
   "outputs": [
    {
     "data": {
      "image/png": "[encoded data removed]"
     },
     "metadata": {
      "application/vnd.databricks.v1+output": {
       "addedWidgets": {},
       "arguments": {},
       "data": "/plots/6bc59ad9-48eb-4fd2-a9ba-e068cd1ff60b.png",
       "datasetInfos": [],
       "metadata": {},
       "removedWidgets": [],
       "type": "image"
      }
     },
     "output_type": "display_data"
    }
   ],
   "source": [
    "# Duration of the bike rides in minutes\n",
    "plt.figure(figsize=(10, 8))\n",
    "binsize = 1\n",
    "bins = np.arange(0, df_baywheels_final['duration_minute'].max() + binsize, binsize)\n",
    "\n",
    "plt.hist(data = df_baywheels_final, x = 'duration_minute', bins = bins);\n",
    "\n",
    "plt.title(\"Bay Wheels System Trip Duration in Minutes\", fontsize=16, fontweight='bold')\n",
    "plt.xlabel('Duration (Minute)')\n",
    "plt.ylabel('Number of Bike Trips');"
   ]
  },
  {
   "cell_type": "markdown",
   "metadata": {
    "application/vnd.databricks.v1+cell": {
     "inputWidgets": {},
     "nuid": "8afca2da-783e-45ea-ba69-5d0aa19d0851",
     "showTitle": false,
     "title": ""
    }
   },
   "source": [
    "Nous avons observé qu'il formait un graphique à asymétrie positive, où la majorité des trajets a une durée comprise entre 5 et 14 minutes."
   ]
  },
  {
   "cell_type": "markdown",
   "metadata": {
    "application/vnd.databricks.v1+cell": {
     "inputWidgets": {},
     "nuid": "528acdca-e54f-4813-942d-6ce80abce609",
     "showTitle": false,
     "title": ""
    }
   },
   "source": [
    "**Maintenant, on regarde la distribution des fonctionnalités datetime**"
   ]
  },
  {
   "cell_type": "code",
   "execution_count": 0,
   "metadata": {
    "application/vnd.databricks.v1+cell": {
     "inputWidgets": {},
     "nuid": "618646e9-ec68-44e2-ac5c-b076a22dba8d",
     "showTitle": false,
     "title": ""
    }
   },
   "outputs": [
    {
     "data": {
      "text/html": [
       "<style scoped>\n",
       "  .ansiout {\n",
       "    display: block;\n",
       "    unicode-bidi: embed;\n",
       "    white-space: pre-wrap;\n",
       "    word-wrap: break-word;\n",
       "    word-break: break-all;\n",
       "    font-family: \"Source Code Pro\", \"Menlo\", monospace;;\n",
       "    font-size: 13px;\n",
       "    color: #555;\n",
       "    margin-left: 4px;\n",
       "    line-height: 19px;\n",
       "  }\n",
       "</style>\n",
       "<div class=\"ansiout\"></div>"
      ]
     },
     "metadata": {
      "application/vnd.databricks.v1+output": {
       "addedWidgets": {},
       "arguments": {},
       "data": "<div class=\"ansiout\"></div>",
       "datasetInfos": [],
       "metadata": {},
       "removedWidgets": [],
       "type": "html"
      }
     },
     "output_type": "display_data"
    }
   ],
   "source": [
    "# Get palette color\n",
    "base_color = sb.color_palette()[0]"
   ]
  },
  {
   "cell_type": "code",
   "execution_count": 0,
   "metadata": {
    "application/vnd.databricks.v1+cell": {
     "inputWidgets": {},
     "nuid": "503d7718-d981-4e74-a06e-6e8759196569",
     "showTitle": false,
     "title": ""
    }
   },
   "outputs": [
    {
     "data": {
      "image/png": "[encoded data removed]"
     },
     "metadata": {
      "application/vnd.databricks.v1+output": {
       "addedWidgets": {},
       "arguments": {},
       "data": "/plots/fd99743b-51ca-4b60-ba5d-c038e35f98b0.png",
       "datasetInfos": [],
       "metadata": {},
       "removedWidgets": [],
       "type": "image"
      }
     },
     "output_type": "display_data"
    }
   ],
   "source": [
    "# Plot distribution by \"start_time_hour\"\n",
    "plt.figure(figsize=(10, 8))\n",
    "sb.countplot(data = df_baywheels_final, x = 'start_time_hour', color = base_color);\n",
    "plt.title(\"Distribution Bike Trips by Hours\", fontsize=16, fontweight='bold')\n",
    "plt.xlabel('Hours')\n",
    "plt.ylabel('Number of Bike Trips');"
   ]
  },
  {
   "cell_type": "code",
   "execution_count": 0,
   "metadata": {
    "application/vnd.databricks.v1+cell": {
     "inputWidgets": {},
     "nuid": "0bab8259-14be-43f1-8d94-cc9e6d4f7708",
     "showTitle": false,
     "title": ""
    }
   },
   "outputs": [
    {
     "data": {
      "image/png": "[encoded data removed]"
     },
     "metadata": {
      "application/vnd.databricks.v1+output": {
       "addedWidgets": {},
       "arguments": {},
       "data": "/plots/cff617da-2b3d-486e-bf4a-934e260f1327.png",
       "datasetInfos": [],
       "metadata": {},
       "removedWidgets": [],
       "type": "image"
      }
     },
     "output_type": "display_data"
    }
   ],
   "source": [
    "# Plot distribution by \"time_day_of_week\"\n",
    "plt.figure(figsize=(10, 8))\n",
    "sb.countplot(data = df_baywheels_final, x = 'time_day_of_week', color = base_color);\n",
    "plt.xticks(rotation=90)\n",
    "plt.title(\"Distribution Bike Trips by Day of Week\", fontsize=16, fontweight='bold')\n",
    "plt.xlabel('Day of Week')\n",
    "plt.ylabel('Number of Bike Trips');"
   ]
  },
  {
   "cell_type": "code",
   "execution_count": 0,
   "metadata": {
    "application/vnd.databricks.v1+cell": {
     "inputWidgets": {},
     "nuid": "a70a679f-25fa-4fbf-80c3-6b8d5f38cc41",
     "showTitle": false,
     "title": ""
    }
   },
   "outputs": [
    {
     "data": {
      "image/png": "[encoded data removed]"
     },
     "metadata": {
      "application/vnd.databricks.v1+output": {
       "addedWidgets": {},
       "arguments": {},
       "data": "/plots/ac1abed8-cb00-4c28-b5af-bd237b4ac6dc.png",
       "datasetInfos": [],
       "metadata": {},
       "removedWidgets": [],
       "type": "image"
      }
     },
     "output_type": "display_data"
    }
   ],
   "source": [
    "# Plot distribution by \"time_month\"\n",
    "plt.figure(figsize=(10, 8))\n",
    "sb.countplot(data = df_baywheels_final, x = 'time_month', color = base_color);\n",
    "plt.xticks(rotation=90)\n",
    "plt.title(\"Distribution Bike Trips by Months\", fontsize=16, fontweight='bold')\n",
    "plt.xlabel('Months')\n",
    "plt.ylabel('Number of Bike Trips');"
   ]
  },
  {
   "cell_type": "markdown",
   "metadata": {
    "application/vnd.databricks.v1+cell": {
     "inputWidgets": {},
     "nuid": "30632392-46a9-41c3-be65-71e8aeec9eec",
     "showTitle": false,
     "title": ""
    }
   },
   "source": [
    "Dans le graphique des variables temporelles, certaines choses ressortent :\n",
    "- Lorsque nous regardons chaque heure, nous constatons un pic de déplacements entre 7 et 9 et un autre pic entre 16 et 18;\n",
    "- Lorsque nous regardons les jours de la semaine, nous remarquons que du lundi au vendredi, nous avons la plupart des déplacements avec des pics entre le mardi et le jeudi et   les minimums pendant le week-end.\n",
    "- Lorsque nous regardons le niveau mensuel, nous voyons qu'on a des données de Décembre"
   ]
  },
  {
   "cell_type": "markdown",
   "metadata": {
    "application/vnd.databricks.v1+cell": {
     "inputWidgets": {},
     "nuid": "8f5ed813-e196-4603-ad78-e98dd78c0c90",
     "showTitle": false,
     "title": ""
    }
   },
   "source": [
    "**Maintenant, on regarde la distribution de la fonctionnalité User**"
   ]
  },
  {
   "cell_type": "code",
   "execution_count": 0,
   "metadata": {
    "application/vnd.databricks.v1+cell": {
     "inputWidgets": {},
     "nuid": "f72bc568-4144-4bfb-9825-84fe164eb933",
     "showTitle": false,
     "title": ""
    }
   },
   "outputs": [
    {
     "data": {
      "image/png": "[encoded data removed]"
     },
     "metadata": {
      "application/vnd.databricks.v1+output": {
       "addedWidgets": {},
       "arguments": {},
       "data": "/plots/94e9d1db-50dc-4679-b8fa-f5799ef96b4b.png",
       "datasetInfos": [],
       "metadata": {},
       "removedWidgets": [],
       "type": "image"
      }
     },
     "output_type": "display_data"
    }
   ],
   "source": [
    "# Plot distribution by \"user_type\"\n",
    "plt.figure(figsize=(10, 8))\n",
    "sb.countplot(data = df_baywheels_final, x = 'user_type', color = base_color);\n",
    "plt.title(\"Distribution Bike Trips by Users Type\", fontsize=16, fontweight='bold')\n",
    "plt.xlabel('Users')\n",
    "plt.ylabel('Number of Bike Trips');"
   ]
  },
  {
   "cell_type": "code",
   "execution_count": 0,
   "metadata": {
    "application/vnd.databricks.v1+cell": {
     "inputWidgets": {},
     "nuid": "e141545e-45c9-4567-8937-75e64a2c7cca",
     "showTitle": false,
     "title": ""
    }
   },
   "outputs": [
    {
     "data": {
      "image/png": "[encoded data removed]"
     },
     "metadata": {
      "application/vnd.databricks.v1+output": {
       "addedWidgets": {},
       "arguments": {},
       "data": "/plots/543abe99-ff3b-4d0b-8173-f3343efe1bd8.png",
       "datasetInfos": [],
       "metadata": {},
       "removedWidgets": [],
       "type": "image"
      }
     },
     "output_type": "display_data"
    }
   ],
   "source": [
    "# Pie plot distribution by \"user_type\"\n",
    "plt.figure(figsize=(10, 8))\n",
    "plt.title(\"Distribution (Percentage) Bike Trips by Users Type\", fontsize=16, fontweight='bold')\n",
    "labels = ['Customer', 'Subscriber']\n",
    "data = [(df_baywheels_final['user_type'].value_counts(normalize=True) * 100)['Customer'], (df_baywheels_final['user_type'].value_counts(normalize=True) * 100)['Subscriber']]\n",
    "\n",
    "plt.pie(data, explode=(0, 0.1), labels = labels, autopct='%1.1f%%', shadow=True, startangle=90);"
   ]
  },
  {
   "cell_type": "markdown",
   "metadata": {
    "application/vnd.databricks.v1+cell": {
     "inputWidgets": {},
     "nuid": "de980090-7f13-47f5-ad4a-9ba68e470b14",
     "showTitle": false,
     "title": ""
    }
   },
   "source": [
    "Nous voyons ici que plus de 54,4% des utilisateurs qui utilisent les services sont des clients."
   ]
  },
  {
   "cell_type": "markdown",
   "metadata": {
    "application/vnd.databricks.v1+cell": {
     "inputWidgets": {},
     "nuid": "7ae7adb1-bca5-41b2-b217-bc22787b308e",
     "showTitle": false,
     "title": ""
    }
   },
   "source": [
    "### conclusion : \n",
    "Nous constatons que la majorité des déplacements ont une durée comprise entre 7 et 18 minutes et que, du lundi au vendredi, nous avons la majorité des déplacements, principalement aux heures où les personnes se déplacent pour commencer ou quitter leur travail."
   ]
  },
  {
   "cell_type": "markdown",
   "metadata": {
    "application/vnd.databricks.v1+cell": {
     "inputWidgets": {},
     "nuid": "2ef51953-9aeb-46ec-b2e7-c165abb02026",
     "showTitle": false,
     "title": ""
    }
   },
   "source": [
    "## Exploration à deux variables"
   ]
  },
  {
   "cell_type": "markdown",
   "metadata": {
    "application/vnd.databricks.v1+cell": {
     "inputWidgets": {},
     "nuid": "ace9e4f8-c230-41cb-a802-e60327c9adb1",
     "showTitle": false,
     "title": ""
    }
   },
   "source": [
    "**Commençons par comparer la durée des trajets par les autres caractéristiques.**"
   ]
  },
  {
   "cell_type": "code",
   "execution_count": 0,
   "metadata": {
    "application/vnd.databricks.v1+cell": {
     "inputWidgets": {},
     "nuid": "30124829-ff10-4be7-b55a-f5132e8212b4",
     "showTitle": false,
     "title": ""
    }
   },
   "outputs": [
    {
     "data": {
      "image/png": "[encoded data removed]"
     },
     "metadata": {
      "application/vnd.databricks.v1+output": {
       "addedWidgets": {},
       "arguments": {},
       "data": "/plots/ec3864c1-8b83-46c4-8ca1-ebdecb41faeb.png",
       "datasetInfos": [],
       "metadata": {},
       "removedWidgets": [],
       "type": "image"
      }
     },
     "output_type": "display_data"
    }
   ],
   "source": [
    "# Bivariate plots of \"duration_minute\" vs. \"user_type\"\n",
    "plt.figure(figsize = [12, 5])\n",
    "\n",
    "plt.subplot(1, 2, 1)\n",
    "ax1 = sb.violinplot(data = df_baywheels_final, x = 'user_type', y = 'duration_minute', color = base_color, inner='quartile')\n",
    "\n",
    "plt.subplot(1, 2, 2)\n",
    "sb.boxplot(data = df_baywheels_final, x = 'user_type', y = 'duration_minute', color = base_color)\n",
    "\n",
    "plt.ylim(ax1.get_ylim());\n"
   ]
  },
  {
   "cell_type": "markdown",
   "metadata": {
    "application/vnd.databricks.v1+cell": {
     "inputWidgets": {},
     "nuid": "ee47eb22-781e-4994-92fa-6eefcdc3357b",
     "showTitle": false,
     "title": ""
    }
   },
   "source": [
    "Nous pouvons constater que les utilisateurs \"clients\" ont tendance à faire des trajets plus longs que les utilisateurs \"abonnés\"."
   ]
  },
  {
   "cell_type": "code",
   "execution_count": 0,
   "metadata": {
    "application/vnd.databricks.v1+cell": {
     "inputWidgets": {},
     "nuid": "a4888d2d-7596-4987-9335-bdd02bc7810d",
     "showTitle": false,
     "title": ""
    }
   },
   "outputs": [
    {
     "data": {
      "image/png": "[encoded data removed]"
     },
     "metadata": {
      "application/vnd.databricks.v1+output": {
       "addedWidgets": {},
       "arguments": {},
       "data": "/plots/688312e8-622d-4856-b63e-dadc5db9ced7.png",
       "datasetInfos": [],
       "metadata": {},
       "removedWidgets": [],
       "type": "image"
      }
     },
     "output_type": "display_data"
    }
   ],
   "source": [
    "# Bivariate plots of \"time_day_of_week\" vs \"duration_minute\"\n",
    "plt.figure(figsize=(10, 8))\n",
    "sb.barplot(data=df_baywheels_final, x='time_day_of_week', y='duration_minute', color=base_color);\n",
    "plt.xticks(rotation=90)\n",
    "plt.title(\"Trip Duration (Minute) by Day of Week\", fontsize=16, fontweight='bold')\n",
    "plt.xlabel('Day of Week');\n",
    "plt.ylabel('Avg. Trip Duration in Minute');"
   ]
  },
  {
   "cell_type": "markdown",
   "metadata": {
    "application/vnd.databricks.v1+cell": {
     "inputWidgets": {},
     "nuid": "62bc9d4e-9bf0-4936-b16d-ae0b5190d0d8",
     "showTitle": false,
     "title": ""
    }
   },
   "source": [
    "Nous avons observé que pendant les week-ends, les gens ont tendance à faire des voyages plus longs.."
   ]
  },
  {
   "cell_type": "markdown",
   "metadata": {
    "application/vnd.databricks.v1+cell": {
     "inputWidgets": {},
     "nuid": "6f6646cb-612a-4620-9cc5-d2c1805b9df1",
     "showTitle": false,
     "title": ""
    }
   },
   "source": [
    "**Ensuite on compare le type d'utilisateur avec les autres caractéristiques.**"
   ]
  },
  {
   "cell_type": "code",
   "execution_count": 0,
   "metadata": {
    "application/vnd.databricks.v1+cell": {
     "inputWidgets": {},
     "nuid": "b64c7619-4ebc-4bd9-b993-f89e354a88e5",
     "showTitle": false,
     "title": ""
    }
   },
   "outputs": [
    {
     "data": {
      "image/png": "[encoded data removed]"
     },
     "metadata": {
      "application/vnd.databricks.v1+output": {
       "addedWidgets": {},
       "arguments": {},
       "data": "/plots/e1d9e0bb-d951-413a-a37c-e45c7240852e.png",
       "datasetInfos": [],
       "metadata": {},
       "removedWidgets": [],
       "type": "image"
      }
     },
     "output_type": "display_data"
    }
   ],
   "source": [
    "# Bivariate plots of \"time_day_of_week\" vs \"user_type\"\n",
    "plt.figure(figsize=(10, 8))\n",
    "sb.countplot(data = df_baywheels_final, x = 'time_day_of_week', hue = 'user_type', palette = 'Blues')\n",
    "plt.xticks(rotation=90)\n",
    "plt.title(\"Bike Trips by Users vs Day of Week\", fontsize=16, fontweight='bold')\n",
    "plt.xlabel('Day of Week');\n",
    "plt.ylabel('Number of Bike Trips');"
   ]
  },
  {
   "cell_type": "markdown",
   "metadata": {
    "application/vnd.databricks.v1+cell": {
     "inputWidgets": {},
     "nuid": "46bfebf6-566d-49e2-9249-95ea5f2d73c9",
     "showTitle": false,
     "title": ""
    }
   },
   "source": [
    "nous constatons une forte baisse des abonnés pendant les week-ends, tandis que le client utilisateur subit une baisse moins importante."
   ]
  },
  {
   "cell_type": "code",
   "execution_count": 0,
   "metadata": {
    "application/vnd.databricks.v1+cell": {
     "inputWidgets": {},
     "nuid": "22ac2096-94fa-4584-bb9d-4d69b312c937",
     "showTitle": false,
     "title": ""
    }
   },
   "outputs": [
    {
     "data": {
      "image/png": "[encoded data removed]"
     },
     "metadata": {
      "application/vnd.databricks.v1+output": {
       "addedWidgets": {},
       "arguments": {},
       "data": "/plots/2f841f61-eea6-4615-a022-82dc09c7abf0.png",
       "datasetInfos": [],
       "metadata": {},
       "removedWidgets": [],
       "type": "image"
      }
     },
     "output_type": "display_data"
    }
   ],
   "source": [
    "# Bivariate plots of \"time_day_of_week\" vs \"user_type\"\n",
    "plt.figure(figsize=(10, 8))\n",
    "sb.countplot(data = df_baywheels_final, x = 'start_time_hour', hue = 'user_type', palette = 'Blues')\n",
    "plt.title(\"Bike Trips by Users vs Hours\", fontsize=16, fontweight='bold')\n",
    "plt.xlabel('Hours');\n",
    "plt.ylabel('Number of Bike Trips');"
   ]
  },
  {
   "cell_type": "markdown",
   "metadata": {
    "application/vnd.databricks.v1+cell": {
     "inputWidgets": {},
     "nuid": "55edfd44-5fa2-4346-8d48-fab500b07168",
     "showTitle": false,
     "title": ""
    }
   },
   "source": [
    "Là encore, on constate une tendance à l'augmentation des déplacements entre 8 et 9 heures et entre 17 et 18 heures, principalement pour les usagers \"clients\". Les usagers \"Clients\" suivent une tendance plus discrète."
   ]
  },
  {
   "cell_type": "markdown",
   "metadata": {
    "application/vnd.databricks.v1+cell": {
     "inputWidgets": {},
     "nuid": "e5d313c3-7871-4efc-96d2-646e19722524",
     "showTitle": false,
     "title": ""
    }
   },
   "source": [
    "## Exploration multivariable\n",
    "\n",
    "**Je vais comparer la durée moyenne des trajets en minutes, le type d'utilisateur et les autres caractéristiques.**"
   ]
  },
  {
   "cell_type": "code",
   "execution_count": 0,
   "metadata": {
    "application/vnd.databricks.v1+cell": {
     "inputWidgets": {},
     "nuid": "abe62c06-4de9-44d3-b794-5237640a229a",
     "showTitle": false,
     "title": ""
    }
   },
   "outputs": [
    {
     "data": {
      "image/png": "[encoded data removed]"
     },
     "metadata": {
      "application/vnd.databricks.v1+output": {
       "addedWidgets": {},
       "arguments": {},
       "data": "/plots/99a62ae0-bcf2-4bc6-8961-b3f4c0de60b1.png",
       "datasetInfos": [],
       "metadata": {},
       "removedWidgets": [],
       "type": "image"
      }
     },
     "output_type": "display_data"
    }
   ],
   "source": [
    "# Multivariate plots of Avg. Duration (minute) by \"start_time_hour\" vs \"user_type\"\n",
    "fig = plt.figure(figsize=(10, 8))\n",
    "ax = sb.pointplot(data = df_baywheels_final, x = 'start_time_hour', y = 'duration_minute', hue = 'user_type',\n",
    "           palette = 'Blues', linestyles = '', dodge = 0.4)\n",
    "plt.title('Trip Duration (Minute) by Users vs Hours', fontsize=16, fontweight='bold')\n",
    "plt.ylabel('Avg. Trip Duration in Minute')\n",
    "plt.xlabel('Hours');\n",
    "ax.set_yticklabels([],minor = True)\n",
    "plt.show();"
   ]
  },
  {
   "cell_type": "markdown",
   "metadata": {
    "application/vnd.databricks.v1+cell": {
     "inputWidgets": {},
     "nuid": "29de62ba-007e-44a3-b356-7309c72da76e",
     "showTitle": false,
     "title": ""
    }
   },
   "source": [
    "Nous avons remarqué que la durée moyenne d'un voyage par heure, place le \"Client\" avec une augmentation du temps pendant les heures de l'après-midi, tandis que l'\"Abonné\" a peu de variation pendant la journée des heures de travail."
   ]
  },
  {
   "cell_type": "code",
   "execution_count": 0,
   "metadata": {
    "application/vnd.databricks.v1+cell": {
     "inputWidgets": {},
     "nuid": "b6870e0b-67ff-4998-89cc-761fd1634efb",
     "showTitle": false,
     "title": ""
    }
   },
   "outputs": [
    {
     "data": {
      "image/png": "[encoded data removed]"
     },
     "metadata": {
      "application/vnd.databricks.v1+output": {
       "addedWidgets": {},
       "arguments": {},
       "data": "/plots/26fe1a96-a9a0-4b8f-a7dd-8e4caac3c061.png",
       "datasetInfos": [],
       "metadata": {},
       "removedWidgets": [],
       "type": "image"
      }
     },
     "output_type": "display_data"
    }
   ],
   "source": [
    "# Multivariate plots of Avg. Duration (minute) by \"time_day_of_week\" vs \"user_type\"\n",
    "fig = plt.figure(figsize=(10, 8))\n",
    "ax = sb.pointplot(data = df_baywheels_final, x = 'time_day_of_week', y = 'duration_minute', hue = 'user_type',\n",
    "           palette = 'Blues', linestyles = '', dodge = 0.4)\n",
    "plt.title('Trip Duration (Minute) by Users vs Day of Week', fontsize=16, fontweight='bold')\n",
    "plt.ylabel('Avg. Trip Duration in Minute')\n",
    "plt.xlabel('Day of Week');\n",
    "ax.set_yticklabels([],minor = True)\n",
    "plt.show();"
   ]
  },
  {
   "cell_type": "markdown",
   "metadata": {
    "application/vnd.databricks.v1+cell": {
     "inputWidgets": {},
     "nuid": "1bc77bbf-7c0c-4c7b-bada-5753f7c5acea",
     "showTitle": false,
     "title": ""
    }
   },
   "source": [
    "Nous avons également observé que le \"Client\" consacre plus de temps aux voyages pendant le week-end, alors que l'\"Abonné\" a peu de volatilité pour le week-end."
   ]
  },
  {
   "cell_type": "markdown",
   "metadata": {
    "application/vnd.databricks.v1+cell": {
     "inputWidgets": {},
     "nuid": "81c90267-3343-4fb3-8a27-8ba4e727982d",
     "showTitle": false,
     "title": ""
    }
   },
   "source": [
    "### conclusion : \n",
    "Nous avons observé que la durée moyenne des trajets des utilisateurs \"clients\" est plus élevée que celle des utilisateurs \"abonnés\", ce qui montre que le \"client\" utilise davantage le service pour ses loisirs, tandis que l'\"abonné\" l'utilise davantage pour se déplacer entre le domicile/l'école et le travail."
   ]
  }
 ],
 "metadata": {
  "application/vnd.databricks.v1+notebook": {
   "dashboards": [],
   "language": "python",
   "notebookMetadata": {
    "pythonIndentUnit": 2
   },
   "notebookName": "exploration",
   "notebookOrigID": 3177122864716878,
   "widgets": {}
  },
  "kernelspec": {
   "display_name": "Python 3",
   "language": "python",
   "name": "python3"
  },
  "language_info": {
   "codemirror_mode": {
    "name": "ipython",
    "version": 3
   },
   "file_extension": ".py",
   "mimetype": "text/x-python",
   "name": "python",
   "nbconvert_exporter": "python",
   "pygments_lexer": "ipython3",
   "version": "3.8.8"
  }
 },
 "nbformat": 4,
 "nbformat_minor": 1
}
